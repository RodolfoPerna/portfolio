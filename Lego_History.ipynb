{
  "nbformat": 4,
  "nbformat_minor": 0,
  "metadata": {
    "colab": {
      "name": "Lego_History.ipynb",
      "provenance": [],
      "collapsed_sections": [],
      "mount_file_id": "https://github.com/RodolfoPerna/portfolio/blob/master/Lego_History.ipynb",
      "authorship_tag": "ABX9TyOjQt4mBK5ISg4krs7x4ynm",
      "include_colab_link": true
    },
    "kernelspec": {
      "name": "python3",
      "display_name": "Python 3"
    }
  },
  "cells": [
    {
      "cell_type": "markdown",
      "metadata": {
        "id": "view-in-github",
        "colab_type": "text"
      },
      "source": [
        "<a href=\"https://colab.research.google.com/github/RodolfoPerna/portfolio/blob/master/Lego_History.ipynb\" target=\"_parent\"><img src=\"https://colab.research.google.com/assets/colab-badge.svg\" alt=\"Open In Colab\"/></a>"
      ]
    },
    {
      "cell_type": "markdown",
      "metadata": {
        "id": "jRQfrmsT2Yu_",
        "colab_type": "text"
      },
      "source": [
        "# **SETUP**"
      ]
    },
    {
      "cell_type": "code",
      "metadata": {
        "id": "NkgGWjGkDoEk",
        "colab_type": "code",
        "outputId": "dfc319be-8fc4-4da0-baf8-92db4c423bf6",
        "colab": {
          "resources": {
            "http://localhost:8080/nbextensions/google.colab/files.js": {
              "data": "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",
              "ok": true,
              "headers": [
                [
                  "content-type",
                  "application/javascript"
                ]
              ],
              "status": 200,
              "status_text": ""
            }
          },
          "base_uri": "https://localhost:8080/",
          "height": 108
        }
      },
      "source": [
        "from google.colab import files\n",
        "uploaded = files.upload()"
      ],
      "execution_count": 0,
      "outputs": [
        {
          "output_type": "display_data",
          "data": {
            "text/html": [
              "\n",
              "     <input type=\"file\" id=\"files-04e12cef-dd21-47eb-84d5-2bab4ae78c46\" name=\"files[]\" multiple disabled />\n",
              "     <output id=\"result-04e12cef-dd21-47eb-84d5-2bab4ae78c46\">\n",
              "      Upload widget is only available when the cell has been executed in the\n",
              "      current browser session. Please rerun this cell to enable.\n",
              "      </output>\n",
              "      <script src=\"/nbextensions/google.colab/files.js\"></script> "
            ],
            "text/plain": [
              "<IPython.core.display.HTML object>"
            ]
          },
          "metadata": {
            "tags": []
          }
        },
        {
          "output_type": "stream",
          "text": [
            "Saving sets.csv to sets.csv\n",
            "Saving themes.csv to themes.csv\n"
          ],
          "name": "stdout"
        }
      ]
    },
    {
      "cell_type": "code",
      "metadata": {
        "id": "JgmrQrd5STIy",
        "colab_type": "code",
        "outputId": "17842017-f2ca-46d3-d5d9-951dfcc61f7c",
        "colab": {
          "base_uri": "https://localhost:8080/",
          "height": 35
        }
      },
      "source": [
        "# Import modules\n",
        "import pandas as pd\n",
        "import numpy as np\n",
        "import matplotlib.pyplot as plt\n",
        "import seaborn as sns\n",
        "print(\"Setup Complete\")"
      ],
      "execution_count": 64,
      "outputs": [
        {
          "output_type": "stream",
          "text": [
            "Setup Complete\n"
          ],
          "name": "stdout"
        }
      ]
    },
    {
      "cell_type": "markdown",
      "metadata": {
        "id": "BoIA_B8J2eJm",
        "colab_type": "text"
      },
      "source": [
        "# **READ DATA**"
      ]
    },
    {
      "cell_type": "code",
      "metadata": {
        "id": "W7LrsHMn0bRQ",
        "colab_type": "code",
        "colab": {}
      },
      "source": [
        "# Read data\n",
        "url = 'https://raw.githubusercontent.com/RodolfoPerna/portfolio/master/sets.csv'\n",
        "sets = pd.read_csv(url)\n",
        "url = 'https://raw.githubusercontent.com/RodolfoPerna/portfolio/master/themes.csv'\n",
        "themes = pd.read_csv(url)\n",
        "url = 'https://raw.githubusercontent.com/RodolfoPerna/portfolio/master/inventories.csv'\n",
        "inventories = pd.read_csv(url)\n",
        "url = 'https://raw.githubusercontent.com/RodolfoPerna/portfolio/master/inventory_sets.csv'\n",
        "inventory_sets = pd.read_csv(url)"
      ],
      "execution_count": 0,
      "outputs": []
    },
    {
      "cell_type": "markdown",
      "metadata": {
        "id": "VqUEsoEp2n2G",
        "colab_type": "text"
      },
      "source": [
        "# **DATA CLEANING AND RELANTIONSHIPS**"
      ]
    },
    {
      "cell_type": "markdown",
      "metadata": {
        "id": "xZtkS-nEHOHf",
        "colab_type": "text"
      },
      "source": [
        "![alt text](https://raw.githubusercontent.com/RodolfoPerna/portfolio/master/downloads_schema.png)"
      ]
    },
    {
      "cell_type": "code",
      "metadata": {
        "id": "J4usTch_tmGO",
        "colab_type": "code",
        "colab": {
          "base_uri": "https://localhost:8080/",
          "height": 378
        },
        "outputId": "3db67deb-1165-4563-dc34-d9f5073fbbb4"
      },
      "source": [
        "inventory_sets.describe(include = 'all')"
      ],
      "execution_count": 6,
      "outputs": [
        {
          "output_type": "execute_result",
          "data": {
            "text/html": [
              "<div>\n",
              "<style scoped>\n",
              "    .dataframe tbody tr th:only-of-type {\n",
              "        vertical-align: middle;\n",
              "    }\n",
              "\n",
              "    .dataframe tbody tr th {\n",
              "        vertical-align: top;\n",
              "    }\n",
              "\n",
              "    .dataframe thead th {\n",
              "        text-align: right;\n",
              "    }\n",
              "</style>\n",
              "<table border=\"1\" class=\"dataframe\">\n",
              "  <thead>\n",
              "    <tr style=\"text-align: right;\">\n",
              "      <th></th>\n",
              "      <th>inventory_id</th>\n",
              "      <th>set_num</th>\n",
              "      <th>quantity</th>\n",
              "    </tr>\n",
              "  </thead>\n",
              "  <tbody>\n",
              "    <tr>\n",
              "      <th>count</th>\n",
              "      <td>2846.000000</td>\n",
              "      <td>2846</td>\n",
              "      <td>2846.000000</td>\n",
              "    </tr>\n",
              "    <tr>\n",
              "      <th>unique</th>\n",
              "      <td>NaN</td>\n",
              "      <td>2306</td>\n",
              "      <td>NaN</td>\n",
              "    </tr>\n",
              "    <tr>\n",
              "      <th>top</th>\n",
              "      <td>NaN</td>\n",
              "      <td>7241-1</td>\n",
              "      <td>NaN</td>\n",
              "    </tr>\n",
              "    <tr>\n",
              "      <th>freq</th>\n",
              "      <td>NaN</td>\n",
              "      <td>12</td>\n",
              "      <td>NaN</td>\n",
              "    </tr>\n",
              "    <tr>\n",
              "      <th>mean</th>\n",
              "      <td>8017.497892</td>\n",
              "      <td>NaN</td>\n",
              "      <td>1.375966</td>\n",
              "    </tr>\n",
              "    <tr>\n",
              "      <th>std</th>\n",
              "      <td>4798.898759</td>\n",
              "      <td>NaN</td>\n",
              "      <td>4.563002</td>\n",
              "    </tr>\n",
              "    <tr>\n",
              "      <th>min</th>\n",
              "      <td>35.000000</td>\n",
              "      <td>NaN</td>\n",
              "      <td>1.000000</td>\n",
              "    </tr>\n",
              "    <tr>\n",
              "      <th>25%</th>\n",
              "      <td>3691.750000</td>\n",
              "      <td>NaN</td>\n",
              "      <td>1.000000</td>\n",
              "    </tr>\n",
              "    <tr>\n",
              "      <th>50%</th>\n",
              "      <td>7902.000000</td>\n",
              "      <td>NaN</td>\n",
              "      <td>1.000000</td>\n",
              "    </tr>\n",
              "    <tr>\n",
              "      <th>75%</th>\n",
              "      <td>11476.000000</td>\n",
              "      <td>NaN</td>\n",
              "      <td>1.000000</td>\n",
              "    </tr>\n",
              "    <tr>\n",
              "      <th>max</th>\n",
              "      <td>18701.000000</td>\n",
              "      <td>NaN</td>\n",
              "      <td>60.000000</td>\n",
              "    </tr>\n",
              "  </tbody>\n",
              "</table>\n",
              "</div>"
            ],
            "text/plain": [
              "        inventory_id set_num     quantity\n",
              "count    2846.000000    2846  2846.000000\n",
              "unique           NaN    2306          NaN\n",
              "top              NaN  7241-1          NaN\n",
              "freq             NaN      12          NaN\n",
              "mean     8017.497892     NaN     1.375966\n",
              "std      4798.898759     NaN     4.563002\n",
              "min        35.000000     NaN     1.000000\n",
              "25%      3691.750000     NaN     1.000000\n",
              "50%      7902.000000     NaN     1.000000\n",
              "75%     11476.000000     NaN     1.000000\n",
              "max     18701.000000     NaN    60.000000"
            ]
          },
          "metadata": {
            "tags": []
          },
          "execution_count": 6
        }
      ]
    },
    {
      "cell_type": "code",
      "metadata": {
        "id": "6p6UPwpCuEUe",
        "colab_type": "code",
        "colab": {
          "base_uri": "https://localhost:8080/",
          "height": 78
        },
        "outputId": "7cc976b6-30f7-4f5a-802c-16d88d37cbf0"
      },
      "source": [
        "inventories.loc[inventories.set_num == '10024-1' ]"
      ],
      "execution_count": 19,
      "outputs": [
        {
          "output_type": "execute_result",
          "data": {
            "text/html": [
              "<div>\n",
              "<style scoped>\n",
              "    .dataframe tbody tr th:only-of-type {\n",
              "        vertical-align: middle;\n",
              "    }\n",
              "\n",
              "    .dataframe tbody tr th {\n",
              "        vertical-align: top;\n",
              "    }\n",
              "\n",
              "    .dataframe thead th {\n",
              "        text-align: right;\n",
              "    }\n",
              "</style>\n",
              "<table border=\"1\" class=\"dataframe\">\n",
              "  <thead>\n",
              "    <tr style=\"text-align: right;\">\n",
              "      <th></th>\n",
              "      <th>id</th>\n",
              "      <th>version</th>\n",
              "      <th>set_num</th>\n",
              "    </tr>\n",
              "  </thead>\n",
              "  <tbody>\n",
              "    <tr>\n",
              "      <th>5480</th>\n",
              "      <td>7884</td>\n",
              "      <td>1</td>\n",
              "      <td>10024-1</td>\n",
              "    </tr>\n",
              "  </tbody>\n",
              "</table>\n",
              "</div>"
            ],
            "text/plain": [
              "        id  version  set_num\n",
              "5480  7884        1  10024-1"
            ]
          },
          "metadata": {
            "tags": []
          },
          "execution_count": 19
        }
      ]
    },
    {
      "cell_type": "code",
      "metadata": {
        "id": "RuyEic0iuo4U",
        "colab_type": "code",
        "colab": {
          "base_uri": "https://localhost:8080/",
          "height": 78
        },
        "outputId": "fdd07ad1-9306-4a8e-fc8a-1a702732036c"
      },
      "source": [
        "sets.loc[sets.name == 'Red Baron']"
      ],
      "execution_count": 18,
      "outputs": [
        {
          "output_type": "execute_result",
          "data": {
            "text/html": [
              "<div>\n",
              "<style scoped>\n",
              "    .dataframe tbody tr th:only-of-type {\n",
              "        vertical-align: middle;\n",
              "    }\n",
              "\n",
              "    .dataframe tbody tr th {\n",
              "        vertical-align: top;\n",
              "    }\n",
              "\n",
              "    .dataframe thead th {\n",
              "        text-align: right;\n",
              "    }\n",
              "</style>\n",
              "<table border=\"1\" class=\"dataframe\">\n",
              "  <thead>\n",
              "    <tr style=\"text-align: right;\">\n",
              "      <th></th>\n",
              "      <th>set_num</th>\n",
              "      <th>name</th>\n",
              "      <th>year</th>\n",
              "      <th>theme_id</th>\n",
              "      <th>num_parts</th>\n",
              "    </tr>\n",
              "  </thead>\n",
              "  <tbody>\n",
              "    <tr>\n",
              "      <th>52</th>\n",
              "      <td>10024-1</td>\n",
              "      <td>Red Baron</td>\n",
              "      <td>2002</td>\n",
              "      <td>276</td>\n",
              "      <td>669</td>\n",
              "    </tr>\n",
              "  </tbody>\n",
              "</table>\n",
              "</div>"
            ],
            "text/plain": [
              "    set_num       name  year  theme_id  num_parts\n",
              "52  10024-1  Red Baron  2002       276        669"
            ]
          },
          "metadata": {
            "tags": []
          },
          "execution_count": 18
        }
      ]
    },
    {
      "cell_type": "code",
      "metadata": {
        "id": "mBRpTd3dvA00",
        "colab_type": "code",
        "colab": {
          "base_uri": "https://localhost:8080/",
          "height": 108
        },
        "outputId": "22905471-e4d1-48ce-86fc-63eea505c931"
      },
      "source": [
        "inventory_sets.loc[(inventory_sets.set_num == '10024-1')] "
      ],
      "execution_count": 22,
      "outputs": [
        {
          "output_type": "execute_result",
          "data": {
            "text/html": [
              "<div>\n",
              "<style scoped>\n",
              "    .dataframe tbody tr th:only-of-type {\n",
              "        vertical-align: middle;\n",
              "    }\n",
              "\n",
              "    .dataframe tbody tr th {\n",
              "        vertical-align: top;\n",
              "    }\n",
              "\n",
              "    .dataframe thead th {\n",
              "        text-align: right;\n",
              "    }\n",
              "</style>\n",
              "<table border=\"1\" class=\"dataframe\">\n",
              "  <thead>\n",
              "    <tr style=\"text-align: right;\">\n",
              "      <th></th>\n",
              "      <th>inventory_id</th>\n",
              "      <th>set_num</th>\n",
              "      <th>quantity</th>\n",
              "    </tr>\n",
              "  </thead>\n",
              "  <tbody>\n",
              "    <tr>\n",
              "      <th>2535</th>\n",
              "      <td>14812</td>\n",
              "      <td>10024-1</td>\n",
              "      <td>1</td>\n",
              "    </tr>\n",
              "    <tr>\n",
              "      <th>2724</th>\n",
              "      <td>16127</td>\n",
              "      <td>10024-1</td>\n",
              "      <td>1</td>\n",
              "    </tr>\n",
              "  </tbody>\n",
              "</table>\n",
              "</div>"
            ],
            "text/plain": [
              "      inventory_id  set_num  quantity\n",
              "2535         14812  10024-1         1\n",
              "2724         16127  10024-1         1"
            ]
          },
          "metadata": {
            "tags": []
          },
          "execution_count": 22
        }
      ]
    },
    {
      "cell_type": "code",
      "metadata": {
        "id": "5Fvib_bRKYWg",
        "colab_type": "code",
        "colab": {}
      },
      "source": [
        "themes = themes.rename(columns={'id': 'theme_id'})\n",
        "sets = sets.merge(themes, on='theme_id')"
      ],
      "execution_count": 0,
      "outputs": []
    },
    {
      "cell_type": "code",
      "metadata": {
        "id": "H-m4FCvilh1A",
        "colab_type": "code",
        "colab": {}
      },
      "source": [
        "sets.rename(columns={\"name_x\":'set_name', 'num_parts':'pieces', 'name_y':'theme'}, inplace=True)"
      ],
      "execution_count": 0,
      "outputs": []
    },
    {
      "cell_type": "code",
      "metadata": {
        "id": "VpuTKuCzi2OY",
        "colab_type": "code",
        "colab": {
          "base_uri": "https://localhost:8080/",
          "height": 407
        },
        "outputId": "fcb78f01-9932-4f11-a14d-3d952d38b002"
      },
      "source": [
        "# simply drop whole column \"parent_id\"\n",
        "sets.drop('parent_id', axis=1, inplace=False)"
      ],
      "execution_count": 26,
      "outputs": [
        {
          "output_type": "execute_result",
          "data": {
            "text/html": [
              "<div>\n",
              "<style scoped>\n",
              "    .dataframe tbody tr th:only-of-type {\n",
              "        vertical-align: middle;\n",
              "    }\n",
              "\n",
              "    .dataframe tbody tr th {\n",
              "        vertical-align: top;\n",
              "    }\n",
              "\n",
              "    .dataframe thead th {\n",
              "        text-align: right;\n",
              "    }\n",
              "</style>\n",
              "<table border=\"1\" class=\"dataframe\">\n",
              "  <thead>\n",
              "    <tr style=\"text-align: right;\">\n",
              "      <th></th>\n",
              "      <th>set_num</th>\n",
              "      <th>set_name</th>\n",
              "      <th>year</th>\n",
              "      <th>theme_id</th>\n",
              "      <th>pieces</th>\n",
              "      <th>theme</th>\n",
              "    </tr>\n",
              "  </thead>\n",
              "  <tbody>\n",
              "    <tr>\n",
              "      <th>0</th>\n",
              "      <td>00-1</td>\n",
              "      <td>Weetabix Castle</td>\n",
              "      <td>1970</td>\n",
              "      <td>414</td>\n",
              "      <td>471</td>\n",
              "      <td>Castle</td>\n",
              "    </tr>\n",
              "    <tr>\n",
              "      <th>1</th>\n",
              "      <td>0011-2</td>\n",
              "      <td>Town Mini-Figures</td>\n",
              "      <td>1978</td>\n",
              "      <td>84</td>\n",
              "      <td>12</td>\n",
              "      <td>Supplemental</td>\n",
              "    </tr>\n",
              "    <tr>\n",
              "      <th>2</th>\n",
              "      <td>2181-1</td>\n",
              "      <td>Infomaniac</td>\n",
              "      <td>1997</td>\n",
              "      <td>84</td>\n",
              "      <td>4</td>\n",
              "      <td>Supplemental</td>\n",
              "    </tr>\n",
              "    <tr>\n",
              "      <th>3</th>\n",
              "      <td>300-1</td>\n",
              "      <td>T-Junction Road Plates</td>\n",
              "      <td>1978</td>\n",
              "      <td>84</td>\n",
              "      <td>2</td>\n",
              "      <td>Supplemental</td>\n",
              "    </tr>\n",
              "    <tr>\n",
              "      <th>4</th>\n",
              "      <td>301-1</td>\n",
              "      <td>Curved Road Plates</td>\n",
              "      <td>1978</td>\n",
              "      <td>84</td>\n",
              "      <td>2</td>\n",
              "      <td>Supplemental</td>\n",
              "    </tr>\n",
              "    <tr>\n",
              "      <th>...</th>\n",
              "      <td>...</td>\n",
              "      <td>...</td>\n",
              "      <td>...</td>\n",
              "      <td>...</td>\n",
              "      <td>...</td>\n",
              "      <td>...</td>\n",
              "    </tr>\n",
              "    <tr>\n",
              "      <th>11668</th>\n",
              "      <td>K6762-1</td>\n",
              "      <td>Western Kit</td>\n",
              "      <td>2002</td>\n",
              "      <td>475</td>\n",
              "      <td>3</td>\n",
              "      <td>Western</td>\n",
              "    </tr>\n",
              "    <tr>\n",
              "      <th>11669</th>\n",
              "      <td>K7623-1</td>\n",
              "      <td>Indiana Jones Classic Adventures Collection</td>\n",
              "      <td>2008</td>\n",
              "      <td>264</td>\n",
              "      <td>4</td>\n",
              "      <td>Indiana Jones</td>\n",
              "    </tr>\n",
              "    <tr>\n",
              "      <th>11670</th>\n",
              "      <td>llca27-1</td>\n",
              "      <td>Legoland Pirate with Parrot (Legoland California)</td>\n",
              "      <td>2006</td>\n",
              "      <td>430</td>\n",
              "      <td>70</td>\n",
              "      <td>Pirates</td>\n",
              "    </tr>\n",
              "    <tr>\n",
              "      <th>11671</th>\n",
              "      <td>LLCA29-1</td>\n",
              "      <td>Pirate Treasure Chest Bank (LLCA Ambassador Pa...</td>\n",
              "      <td>2006</td>\n",
              "      <td>430</td>\n",
              "      <td>215</td>\n",
              "      <td>Pirates</td>\n",
              "    </tr>\n",
              "    <tr>\n",
              "      <th>11672</th>\n",
              "      <td>LLCA30-1</td>\n",
              "      <td>Pirate Ship Diorama (LLCA Ambassador Pass Excl...</td>\n",
              "      <td>2006</td>\n",
              "      <td>430</td>\n",
              "      <td>127</td>\n",
              "      <td>Pirates</td>\n",
              "    </tr>\n",
              "  </tbody>\n",
              "</table>\n",
              "<p>11673 rows × 6 columns</p>\n",
              "</div>"
            ],
            "text/plain": [
              "        set_num  ...          theme\n",
              "0          00-1  ...         Castle\n",
              "1        0011-2  ...   Supplemental\n",
              "2        2181-1  ...   Supplemental\n",
              "3         300-1  ...   Supplemental\n",
              "4         301-1  ...   Supplemental\n",
              "...         ...  ...            ...\n",
              "11668   K6762-1  ...        Western\n",
              "11669   K7623-1  ...  Indiana Jones\n",
              "11670  llca27-1  ...        Pirates\n",
              "11671  LLCA29-1  ...        Pirates\n",
              "11672  LLCA30-1  ...        Pirates\n",
              "\n",
              "[11673 rows x 6 columns]"
            ]
          },
          "metadata": {
            "tags": []
          },
          "execution_count": 26
        }
      ]
    },
    {
      "cell_type": "code",
      "metadata": {
        "id": "y4Td3_53iWmo",
        "colab_type": "code",
        "colab": {
          "base_uri": "https://localhost:8080/",
          "height": 545
        },
        "outputId": "2ac0b004-4b93-4535-99c2-c1020323ce84"
      },
      "source": [
        "# replace \"?\" to NaN\n",
        "sets.replace(\"?\", np.nan, inplace = True)\n",
        "missing_data = sets.isnull()\n",
        "for column in missing_data.columns.values.tolist():\n",
        "    print(column)\n",
        "    print (missing_data[column].value_counts())\n",
        "    print(\"\")"
      ],
      "execution_count": 27,
      "outputs": [
        {
          "output_type": "stream",
          "text": [
            "set_num\n",
            "False    11673\n",
            "Name: set_num, dtype: int64\n",
            "\n",
            "set_name\n",
            "False    11673\n",
            "Name: set_name, dtype: int64\n",
            "\n",
            "year\n",
            "False    11673\n",
            "Name: year, dtype: int64\n",
            "\n",
            "theme_id\n",
            "False    11673\n",
            "Name: theme_id, dtype: int64\n",
            "\n",
            "pieces\n",
            "False    11673\n",
            "Name: pieces, dtype: int64\n",
            "\n",
            "theme\n",
            "False    11673\n",
            "Name: theme, dtype: int64\n",
            "\n",
            "parent_id\n",
            "False    8046\n",
            "True     3627\n",
            "Name: parent_id, dtype: int64\n",
            "\n"
          ],
          "name": "stdout"
        }
      ]
    },
    {
      "cell_type": "code",
      "metadata": {
        "id": "0EbrbHA7SyG_",
        "colab_type": "code",
        "outputId": "89816235-00ad-4eec-97bd-e29f892584b2",
        "colab": {
          "base_uri": "https://localhost:8080/",
          "height": 408
        }
      },
      "source": [
        "parts_by_year = sets[['year','pieces']].groupby('year').mean()\n",
        "plt.figure(figsize=(18,6)) #define the figure size\n",
        "plt.title(\"Parts by year [mean]\") #plot title\n",
        "sns.lineplot(data=parts_by_year['pieces']) #create line plot"
      ],
      "execution_count": 28,
      "outputs": [
        {
          "output_type": "execute_result",
          "data": {
            "text/plain": [
              "<matplotlib.axes._subplots.AxesSubplot at 0x7f719d967a90>"
            ]
          },
          "metadata": {
            "tags": []
          },
          "execution_count": 28
        },
        {
          "output_type": "display_data",
          "data": {
            "image/png": "[encoded data removed]",
            "text/plain": [
              "<Figure size 1296x432 with 1 Axes>"
            ]
          },
          "metadata": {
            "tags": [],
            "needs_background": "light"
          }
        }
      ]
    },
    {
      "cell_type": "code",
      "metadata": {
        "id": "Feb7WYmXsxcG",
        "colab_type": "code",
        "outputId": "dec0c4c7-b004-4e11-88d1-3c82f3787a1d",
        "colab": {
          "base_uri": "https://localhost:8080/",
          "height": 625
        }
      },
      "source": [
        "x = sets.year\n",
        "y = sets.pieces\n",
        "m, b = np. polyfit(x, y, 1)\n",
        "plt.figure(figsize=(18,10))\n",
        "plt.title(\"Parts by year\")\n",
        "plt.plot(x, y, 'yo') # create scatter plot.\n",
        "plt.plot(x, m*x + b) # add line of best fit."
      ],
      "execution_count": 29,
      "outputs": [
        {
          "output_type": "execute_result",
          "data": {
            "text/plain": [
              "[<matplotlib.lines.Line2D at 0x7f719d3c1e10>]"
            ]
          },
          "metadata": {
            "tags": []
          },
          "execution_count": 29
        },
        {
          "output_type": "display_data",
          "data": {
            "image/png": "[encoded data removed]",
            "text/plain": [
              "<Figure size 1296x720 with 1 Axes>"
            ]
          },
          "metadata": {
            "tags": [],
            "needs_background": "light"
          }
        }
      ]
    },
    {
      "cell_type": "code",
      "metadata": {
        "id": "ejGc0uDCPLb3",
        "colab_type": "code",
        "outputId": "e0117e92-34b4-4196-9988-82fcd147c8fa",
        "colab": {
          "base_uri": "https://localhost:8080/",
          "height": 528
        }
      },
      "source": [
        "sets[['theme','pieces']].groupby('theme', as_index = True).mean().sort_values(by = 'pieces', ascending = False).head(15)"
      ],
      "execution_count": 30,
      "outputs": [
        {
          "output_type": "execute_result",
          "data": {
            "text/html": [
              "<div>\n",
              "<style scoped>\n",
              "    .dataframe tbody tr th:only-of-type {\n",
              "        vertical-align: middle;\n",
              "    }\n",
              "\n",
              "    .dataframe tbody tr th {\n",
              "        vertical-align: top;\n",
              "    }\n",
              "\n",
              "    .dataframe thead th {\n",
              "        text-align: right;\n",
              "    }\n",
              "</style>\n",
              "<table border=\"1\" class=\"dataframe\">\n",
              "  <thead>\n",
              "    <tr style=\"text-align: right;\">\n",
              "      <th></th>\n",
              "      <th>pieces</th>\n",
              "    </tr>\n",
              "    <tr>\n",
              "      <th>theme</th>\n",
              "      <th></th>\n",
              "    </tr>\n",
              "  </thead>\n",
              "  <tbody>\n",
              "    <tr>\n",
              "      <th>Modular Buildings</th>\n",
              "      <td>2350.583333</td>\n",
              "    </tr>\n",
              "    <tr>\n",
              "      <th>Mosaic</th>\n",
              "      <td>1843.250000</td>\n",
              "    </tr>\n",
              "    <tr>\n",
              "      <th>Sculptures</th>\n",
              "      <td>1716.695652</td>\n",
              "    </tr>\n",
              "    <tr>\n",
              "      <th>Ultimate Collector Series</th>\n",
              "      <td>1680.333333</td>\n",
              "    </tr>\n",
              "    <tr>\n",
              "      <th>FIRST LEGO League</th>\n",
              "      <td>1387.000000</td>\n",
              "    </tr>\n",
              "    <tr>\n",
              "      <th>Order of the Phoenix</th>\n",
              "      <td>904.000000</td>\n",
              "    </tr>\n",
              "    <tr>\n",
              "      <th>The Two Towers</th>\n",
              "      <td>869.200000</td>\n",
              "    </tr>\n",
              "    <tr>\n",
              "      <th>Williams F1</th>\n",
              "      <td>787.500000</td>\n",
              "    </tr>\n",
              "    <tr>\n",
              "      <th>Lamborghini</th>\n",
              "      <td>770.000000</td>\n",
              "    </tr>\n",
              "    <tr>\n",
              "      <th>eLAB</th>\n",
              "      <td>713.000000</td>\n",
              "    </tr>\n",
              "    <tr>\n",
              "      <th>Mindstorms</th>\n",
              "      <td>708.666667</td>\n",
              "    </tr>\n",
              "    <tr>\n",
              "      <th>Model Team</th>\n",
              "      <td>683.187500</td>\n",
              "    </tr>\n",
              "    <tr>\n",
              "      <th>Model</th>\n",
              "      <td>628.590909</td>\n",
              "    </tr>\n",
              "    <tr>\n",
              "      <th>Star Wars Episode 4/5/6</th>\n",
              "      <td>592.527027</td>\n",
              "    </tr>\n",
              "    <tr>\n",
              "      <th>LEGO Ideas and CUUSOO</th>\n",
              "      <td>592.235294</td>\n",
              "    </tr>\n",
              "  </tbody>\n",
              "</table>\n",
              "</div>"
            ],
            "text/plain": [
              "                                pieces\n",
              "theme                                 \n",
              "Modular Buildings          2350.583333\n",
              "Mosaic                     1843.250000\n",
              "Sculptures                 1716.695652\n",
              "Ultimate Collector Series  1680.333333\n",
              "FIRST LEGO League          1387.000000\n",
              "Order of the Phoenix        904.000000\n",
              "The Two Towers              869.200000\n",
              "Williams F1                 787.500000\n",
              "Lamborghini                 770.000000\n",
              "eLAB                        713.000000\n",
              "Mindstorms                  708.666667\n",
              "Model Team                  683.187500\n",
              "Model                       628.590909\n",
              "Star Wars Episode 4/5/6     592.527027\n",
              "LEGO Ideas and CUUSOO       592.235294"
            ]
          },
          "metadata": {
            "tags": []
          },
          "execution_count": 30
        }
      ]
    },
    {
      "cell_type": "code",
      "metadata": {
        "id": "REeb3g1gQnqP",
        "colab_type": "code",
        "colab": {}
      },
      "source": [
        "#modular_buildings = sets.loc[sets.name_y == 'Modular Buildings']\n",
        "#modular_buildings.sort_values(by = 'year', ascending = False)\n",
        "\n",
        "modular_buildings = sets.loc[sets.theme == 'Modular Buildings'].sort_values(by = 'year', ascending = False).head(10)"
      ],
      "execution_count": 0,
      "outputs": []
    },
    {
      "cell_type": "code",
      "metadata": {
        "id": "yJmpdx6f4rWz",
        "colab_type": "code",
        "outputId": "69eb039d-c55c-494a-a9b2-9ae7e0681e7c",
        "colab": {
          "base_uri": "https://localhost:8080/",
          "height": 749
        }
      },
      "source": [
        "plt.figure(figsize=(20,12))\n",
        "plt.title(\"Modular Buildings Sets\")\n",
        "sns.barplot(x=modular_buildings['set_name'], y=modular_buildings['pieces'])\n",
        "plt.ylabel(\"pieces\")"
      ],
      "execution_count": 36,
      "outputs": [
        {
          "output_type": "execute_result",
          "data": {
            "text/plain": [
              "Text(0, 0.5, 'pieces')"
            ]
          },
          "metadata": {
            "tags": []
          },
          "execution_count": 36
        },
        {
          "output_type": "display_data",
          "data": {
            "image/png": "[encoded data removed]",
            "text/plain": [
              "<Figure size 1440x864 with 1 Axes>"
            ]
          },
          "metadata": {
            "tags": [],
            "needs_background": "light"
          }
        }
      ]
    },
    {
      "cell_type": "code",
      "metadata": {
        "id": "GpxwWO5ppxyx",
        "colab_type": "code",
        "colab": {}
      },
      "source": [
        "mosaic_buildings = sets.loc[sets.theme == 'Mosaic'].sort_values(by = 'year', ascending = False).head(10)"
      ],
      "execution_count": 0,
      "outputs": []
    },
    {
      "cell_type": "code",
      "metadata": {
        "id": "Pq0b0KSv7zI4",
        "colab_type": "code",
        "outputId": "625a3a46-7068-4a4e-abf7-e4d651c46767",
        "colab": {
          "base_uri": "https://localhost:8080/",
          "height": 662
        }
      },
      "source": [
        "plt.figure(figsize=(25,12))\n",
        "plt.title(\"Mosaic Sets\")\n",
        "sns.barplot(x=mosaic_buildings['set_name'], y=mosaic_buildings['pieces'])\n",
        "plt.ylabel(\"pieces\")"
      ],
      "execution_count": 39,
      "outputs": [
        {
          "output_type": "execute_result",
          "data": {
            "text/plain": [
              "Text(0, 0.5, 'pieces')"
            ]
          },
          "metadata": {
            "tags": []
          },
          "execution_count": 39
        },
        {
          "output_type": "display_data",
          "data": {
            "image/png": "[encoded data removed]",
            "text/plain": [
              "<Figure size 1800x864 with 1 Axes>"
            ]
          },
          "metadata": {
            "tags": [],
            "needs_background": "light"
          }
        }
      ]
    },
    {
      "cell_type": "code",
      "metadata": {
        "id": "kN4NH4T6qEm3",
        "colab_type": "code",
        "colab": {}
      },
      "source": [
        "sculpture_buildings = sets.loc[sets.theme == 'Sculptures'].sort_values(by = 'pieces', ascending = False).head(10)"
      ],
      "execution_count": 0,
      "outputs": []
    },
    {
      "cell_type": "code",
      "metadata": {
        "id": "1T6_ajoE79Sl",
        "colab_type": "code",
        "outputId": "a2f90e51-38c4-4693-d523-5a64821a1ef5",
        "colab": {
          "base_uri": "https://localhost:8080/",
          "height": 662
        }
      },
      "source": [
        "plt.figure(figsize=(25,12))\n",
        "plt.title(\"Sculptures Sets\")\n",
        "sns.barplot(x=sculpture_buildings['set_name'], y=sculpture_buildings['pieces'])\n",
        "plt.ylabel(\"pieces\")"
      ],
      "execution_count": 42,
      "outputs": [
        {
          "output_type": "execute_result",
          "data": {
            "text/plain": [
              "Text(0, 0.5, 'pieces')"
            ]
          },
          "metadata": {
            "tags": []
          },
          "execution_count": 42
        },
        {
          "output_type": "display_data",
          "data": {
            "image/png": "[encoded data removed]",
            "text/plain": [
              "<Figure size 1800x864 with 1 Axes>"
            ]
          },
          "metadata": {
            "tags": [],
            "needs_background": "light"
          }
        }
      ]
    },
    {
      "cell_type": "code",
      "metadata": {
        "id": "R54FZHiw2sBq",
        "colab_type": "code",
        "outputId": "d1e9f00b-3830-4983-96f7-53a15c0be22a",
        "colab": {
          "base_uri": "https://localhost:8080/",
          "height": 565
        }
      },
      "source": [
        "sets.loc[sets['num_parts'] == sets.groupby('name_y')['num_parts'].transform('max')].sort_values(by = 'num_parts', ascending = False).head(15)"
      ],
      "execution_count": 0,
      "outputs": [
        {
          "output_type": "execute_result",
          "data": {
            "text/html": [
              "<div>\n",
              "<style scoped>\n",
              "    .dataframe tbody tr th:only-of-type {\n",
              "        vertical-align: middle;\n",
              "    }\n",
              "\n",
              "    .dataframe tbody tr th {\n",
              "        vertical-align: top;\n",
              "    }\n",
              "\n",
              "    .dataframe thead th {\n",
              "        text-align: right;\n",
              "    }\n",
              "</style>\n",
              "<table border=\"1\" class=\"dataframe\">\n",
              "  <thead>\n",
              "    <tr style=\"text-align: right;\">\n",
              "      <th></th>\n",
              "      <th>set_num</th>\n",
              "      <th>name_x</th>\n",
              "      <th>year</th>\n",
              "      <th>theme_id</th>\n",
              "      <th>num_parts</th>\n",
              "      <th>name_y</th>\n",
              "      <th>parent_id_x</th>\n",
              "      <th>name</th>\n",
              "      <th>parent_id_y</th>\n",
              "    </tr>\n",
              "  </thead>\n",
              "  <tbody>\n",
              "    <tr>\n",
              "      <th>730</th>\n",
              "      <td>10189-1</td>\n",
              "      <td>Taj Mahal</td>\n",
              "      <td>2008</td>\n",
              "      <td>276</td>\n",
              "      <td>5922</td>\n",
              "      <td>Sculptures</td>\n",
              "      <td>NaN</td>\n",
              "      <td>Sculptures</td>\n",
              "      <td>NaN</td>\n",
              "    </tr>\n",
              "    <tr>\n",
              "      <th>1225</th>\n",
              "      <td>SWMP-1</td>\n",
              "      <td>Star Wars / M&amp;M Mosaic - Promo Set</td>\n",
              "      <td>2005</td>\n",
              "      <td>169</td>\n",
              "      <td>5461</td>\n",
              "      <td>Star Wars Episode 4/5/6</td>\n",
              "      <td>158.0</td>\n",
              "      <td>Star Wars Episode 4/5/6</td>\n",
              "      <td>158.0</td>\n",
              "    </tr>\n",
              "    <tr>\n",
              "      <th>3100</th>\n",
              "      <td>2000409-1</td>\n",
              "      <td>Window Exploration Bag</td>\n",
              "      <td>2010</td>\n",
              "      <td>507</td>\n",
              "      <td>5200</td>\n",
              "      <td>Educational and Dacta</td>\n",
              "      <td>NaN</td>\n",
              "      <td>Educational and Dacta</td>\n",
              "      <td>NaN</td>\n",
              "    </tr>\n",
              "    <tr>\n",
              "      <th>1393</th>\n",
              "      <td>75827-1</td>\n",
              "      <td>Firehouse Headquarters</td>\n",
              "      <td>2016</td>\n",
              "      <td>301</td>\n",
              "      <td>4640</td>\n",
              "      <td>Other</td>\n",
              "      <td>NaN</td>\n",
              "      <td>Other</td>\n",
              "      <td>NaN</td>\n",
              "    </tr>\n",
              "    <tr>\n",
              "      <th>9026</th>\n",
              "      <td>40179-1</td>\n",
              "      <td>Personalised Mosaic Portrait</td>\n",
              "      <td>2016</td>\n",
              "      <td>277</td>\n",
              "      <td>4501</td>\n",
              "      <td>Mosaic</td>\n",
              "      <td>276.0</td>\n",
              "      <td>Mosaic</td>\n",
              "      <td>276.0</td>\n",
              "    </tr>\n",
              "    <tr>\n",
              "      <th>2093</th>\n",
              "      <td>10253-1</td>\n",
              "      <td>Big Ben</td>\n",
              "      <td>2016</td>\n",
              "      <td>43</td>\n",
              "      <td>4166</td>\n",
              "      <td>Building</td>\n",
              "      <td>38.0</td>\n",
              "      <td>Building</td>\n",
              "      <td>38.0</td>\n",
              "    </tr>\n",
              "    <tr>\n",
              "      <th>10749</th>\n",
              "      <td>71040-1</td>\n",
              "      <td>The Disney Castle</td>\n",
              "      <td>2016</td>\n",
              "      <td>608</td>\n",
              "      <td>4060</td>\n",
              "      <td>Disney</td>\n",
              "      <td>NaN</td>\n",
              "      <td>Disney</td>\n",
              "      <td>NaN</td>\n",
              "    </tr>\n",
              "    <tr>\n",
              "      <th>545</th>\n",
              "      <td>75159-1</td>\n",
              "      <td>Death Star</td>\n",
              "      <td>2016</td>\n",
              "      <td>158</td>\n",
              "      <td>4023</td>\n",
              "      <td>Star Wars</td>\n",
              "      <td>NaN</td>\n",
              "      <td>Star Wars</td>\n",
              "      <td>NaN</td>\n",
              "    </tr>\n",
              "    <tr>\n",
              "      <th>1479</th>\n",
              "      <td>10255-1</td>\n",
              "      <td>Assembly Square</td>\n",
              "      <td>2017</td>\n",
              "      <td>155</td>\n",
              "      <td>4009</td>\n",
              "      <td>Modular Buildings</td>\n",
              "      <td>NaN</td>\n",
              "      <td>Modular Buildings</td>\n",
              "      <td>NaN</td>\n",
              "    </tr>\n",
              "    <tr>\n",
              "      <th>9249</th>\n",
              "      <td>42055-1</td>\n",
              "      <td>Bucket Wheel Excavator</td>\n",
              "      <td>2016</td>\n",
              "      <td>7</td>\n",
              "      <td>3928</td>\n",
              "      <td>Construction</td>\n",
              "      <td>5.0</td>\n",
              "      <td>Construction</td>\n",
              "      <td>5.0</td>\n",
              "    </tr>\n",
              "    <tr>\n",
              "      <th>7777</th>\n",
              "      <td>76042-1</td>\n",
              "      <td>The SHIELD Helicarrier</td>\n",
              "      <td>2015</td>\n",
              "      <td>487</td>\n",
              "      <td>2995</td>\n",
              "      <td>Avengers</td>\n",
              "      <td>482.0</td>\n",
              "      <td>Avengers</td>\n",
              "      <td>482.0</td>\n",
              "    </tr>\n",
              "    <tr>\n",
              "      <th>6249</th>\n",
              "      <td>2000430-1</td>\n",
              "      <td>Identity and Landscape Kit</td>\n",
              "      <td>2013</td>\n",
              "      <td>432</td>\n",
              "      <td>2844</td>\n",
              "      <td>Master Building Academy</td>\n",
              "      <td>NaN</td>\n",
              "      <td>Master Building Academy</td>\n",
              "      <td>NaN</td>\n",
              "    </tr>\n",
              "    <tr>\n",
              "      <th>1496</th>\n",
              "      <td>5526-1</td>\n",
              "      <td>Skyline</td>\n",
              "      <td>2005</td>\n",
              "      <td>397</td>\n",
              "      <td>2792</td>\n",
              "      <td>Factory</td>\n",
              "      <td>NaN</td>\n",
              "      <td>Factory</td>\n",
              "      <td>NaN</td>\n",
              "    </tr>\n",
              "    <tr>\n",
              "      <th>2309</th>\n",
              "      <td>42043-1</td>\n",
              "      <td>Mercedes Benz Arocs 3245</td>\n",
              "      <td>2015</td>\n",
              "      <td>1</td>\n",
              "      <td>2792</td>\n",
              "      <td>Technic</td>\n",
              "      <td>NaN</td>\n",
              "      <td>Technic</td>\n",
              "      <td>NaN</td>\n",
              "    </tr>\n",
              "    <tr>\n",
              "      <th>8071</th>\n",
              "      <td>70810-1</td>\n",
              "      <td>MetalBeard’s Sea Cow</td>\n",
              "      <td>2014</td>\n",
              "      <td>578</td>\n",
              "      <td>2741</td>\n",
              "      <td>The LEGO Movie</td>\n",
              "      <td>NaN</td>\n",
              "      <td>The LEGO Movie</td>\n",
              "      <td>NaN</td>\n",
              "    </tr>\n",
              "  </tbody>\n",
              "</table>\n",
              "</div>"
            ],
            "text/plain": [
              "         set_num  ... parent_id_y\n",
              "730      10189-1  ...         NaN\n",
              "1225      SWMP-1  ...       158.0\n",
              "3100   2000409-1  ...         NaN\n",
              "1393     75827-1  ...         NaN\n",
              "9026     40179-1  ...       276.0\n",
              "2093     10253-1  ...        38.0\n",
              "10749    71040-1  ...         NaN\n",
              "545      75159-1  ...         NaN\n",
              "1479     10255-1  ...         NaN\n",
              "9249     42055-1  ...         5.0\n",
              "7777     76042-1  ...       482.0\n",
              "6249   2000430-1  ...         NaN\n",
              "1496      5526-1  ...         NaN\n",
              "2309     42043-1  ...         NaN\n",
              "8071     70810-1  ...         NaN\n",
              "\n",
              "[15 rows x 9 columns]"
            ]
          },
          "metadata": {
            "tags": []
          },
          "execution_count": 291
        }
      ]
    },
    {
      "cell_type": "code",
      "metadata": {
        "id": "CxDOqnwhhTjA",
        "colab_type": "code",
        "outputId": "514a61ac-8834-430e-c2db-f1df0b006fda",
        "colab": {
          "base_uri": "https://localhost:8080/",
          "height": 408
        }
      },
      "source": [
        "grouped = sets.groupby('year')\n",
        "aggregate = list((k, v[\"theme_id\"].count()) for k, v in grouped)\n",
        "sets_by_year = pd.DataFrame(aggregate, columns=['year', 'num_sets'])#.set_index('year')\n",
        "plt.figure(figsize=(18,6)) #define the figure size\n",
        "plt.title(\"Sets by year\") #plot title\n",
        "sns.lineplot(data=sets_by_year['num_sets']) #create line plot"
      ],
      "execution_count": 65,
      "outputs": [
        {
          "output_type": "execute_result",
          "data": {
            "text/plain": [
              "<matplotlib.axes._subplots.AxesSubplot at 0x7f7199258160>"
            ]
          },
          "metadata": {
            "tags": []
          },
          "execution_count": 65
        },
        {
          "output_type": "display_data",
          "data": {
            "image/png": "[encoded data removed]",
            "text/plain": [
              "<Figure size 1296x432 with 1 Axes>"
            ]
          },
          "metadata": {
            "tags": [],
            "needs_background": "light"
          }
        }
      ]
    },
    {
      "cell_type": "code",
      "metadata": {
        "id": "OAlDMEgfnfpK",
        "colab_type": "code",
        "outputId": "5d462459-e723-4bc9-d8de-a6b53886f35a",
        "colab": {
          "base_uri": "https://localhost:8080/",
          "height": 204
        }
      },
      "source": [
        "sets_by_year.merge(parts_by_year, on='year').sort_values(by = 'num_sets', ascending = False).head(5)"
      ],
      "execution_count": 0,
      "outputs": [
        {
          "output_type": "execute_result",
          "data": {
            "text/html": [
              "<div>\n",
              "<style scoped>\n",
              "    .dataframe tbody tr th:only-of-type {\n",
              "        vertical-align: middle;\n",
              "    }\n",
              "\n",
              "    .dataframe tbody tr th {\n",
              "        vertical-align: top;\n",
              "    }\n",
              "\n",
              "    .dataframe thead th {\n",
              "        text-align: right;\n",
              "    }\n",
              "</style>\n",
              "<table border=\"1\" class=\"dataframe\">\n",
              "  <thead>\n",
              "    <tr style=\"text-align: right;\">\n",
              "      <th></th>\n",
              "      <th>year</th>\n",
              "      <th>num_sets</th>\n",
              "      <th>num_parts</th>\n",
              "    </tr>\n",
              "  </thead>\n",
              "  <tbody>\n",
              "    <tr>\n",
              "      <th>62</th>\n",
              "      <td>2014</td>\n",
              "      <td>713</td>\n",
              "      <td>169.715288</td>\n",
              "    </tr>\n",
              "    <tr>\n",
              "      <th>63</th>\n",
              "      <td>2015</td>\n",
              "      <td>665</td>\n",
              "      <td>201.669173</td>\n",
              "    </tr>\n",
              "    <tr>\n",
              "      <th>60</th>\n",
              "      <td>2012</td>\n",
              "      <td>615</td>\n",
              "      <td>149.765854</td>\n",
              "    </tr>\n",
              "    <tr>\n",
              "      <th>64</th>\n",
              "      <td>2016</td>\n",
              "      <td>596</td>\n",
              "      <td>253.077181</td>\n",
              "    </tr>\n",
              "    <tr>\n",
              "      <th>61</th>\n",
              "      <td>2013</td>\n",
              "      <td>593</td>\n",
              "      <td>181.344013</td>\n",
              "    </tr>\n",
              "  </tbody>\n",
              "</table>\n",
              "</div>"
            ],
            "text/plain": [
              "    year  num_sets   num_parts\n",
              "62  2014       713  169.715288\n",
              "63  2015       665  201.669173\n",
              "60  2012       615  149.765854\n",
              "64  2016       596  253.077181\n",
              "61  2013       593  181.344013"
            ]
          },
          "metadata": {
            "tags": []
          },
          "execution_count": 293
        }
      ]
    },
    {
      "cell_type": "code",
      "metadata": {
        "id": "ZrXVOUKM82rL",
        "colab_type": "code",
        "colab": {
          "base_uri": "https://localhost:8080/",
          "height": 648
        },
        "outputId": "50c5f7b3-efc3-40e2-ac01-013c07a148f1"
      },
      "source": [
        "bins = np.linspace(min(sets[\"pieces\"]), max(sets[\"pieces\"]), 13)\n",
        "group_names = ['Individual','Tiny','Micro','Mini','Small', 'Regular','Medium','Large','X-Large', 'Super', 'Awasome', 'OMG']\n",
        "sets['pieces-binned'] = pd.cut(sets['pieces'], bins, labels=group_names, include_lowest=True )\n",
        "sets[['pieces','pieces-binned','year']].head(20)"
      ],
      "execution_count": 58,
      "outputs": [
        {
          "output_type": "execute_result",
          "data": {
            "text/html": [
              "<div>\n",
              "<style scoped>\n",
              "    .dataframe tbody tr th:only-of-type {\n",
              "        vertical-align: middle;\n",
              "    }\n",
              "\n",
              "    .dataframe tbody tr th {\n",
              "        vertical-align: top;\n",
              "    }\n",
              "\n",
              "    .dataframe thead th {\n",
              "        text-align: right;\n",
              "    }\n",
              "</style>\n",
              "<table border=\"1\" class=\"dataframe\">\n",
              "  <thead>\n",
              "    <tr style=\"text-align: right;\">\n",
              "      <th></th>\n",
              "      <th>pieces</th>\n",
              "      <th>pieces-binned</th>\n",
              "      <th>year</th>\n",
              "    </tr>\n",
              "  </thead>\n",
              "  <tbody>\n",
              "    <tr>\n",
              "      <th>0</th>\n",
              "      <td>471</td>\n",
              "      <td>Individual</td>\n",
              "      <td>1970</td>\n",
              "    </tr>\n",
              "    <tr>\n",
              "      <th>1</th>\n",
              "      <td>12</td>\n",
              "      <td>Individual</td>\n",
              "      <td>1978</td>\n",
              "    </tr>\n",
              "    <tr>\n",
              "      <th>2</th>\n",
              "      <td>4</td>\n",
              "      <td>Individual</td>\n",
              "      <td>1997</td>\n",
              "    </tr>\n",
              "    <tr>\n",
              "      <th>3</th>\n",
              "      <td>2</td>\n",
              "      <td>Individual</td>\n",
              "      <td>1978</td>\n",
              "    </tr>\n",
              "    <tr>\n",
              "      <th>4</th>\n",
              "      <td>2</td>\n",
              "      <td>Individual</td>\n",
              "      <td>1978</td>\n",
              "    </tr>\n",
              "    <tr>\n",
              "      <th>5</th>\n",
              "      <td>2</td>\n",
              "      <td>Individual</td>\n",
              "      <td>1983</td>\n",
              "    </tr>\n",
              "    <tr>\n",
              "      <th>6</th>\n",
              "      <td>2</td>\n",
              "      <td>Individual</td>\n",
              "      <td>1978</td>\n",
              "    </tr>\n",
              "    <tr>\n",
              "      <th>7</th>\n",
              "      <td>2</td>\n",
              "      <td>Individual</td>\n",
              "      <td>1979</td>\n",
              "    </tr>\n",
              "    <tr>\n",
              "      <th>8</th>\n",
              "      <td>2</td>\n",
              "      <td>Individual</td>\n",
              "      <td>1979</td>\n",
              "    </tr>\n",
              "    <tr>\n",
              "      <th>9</th>\n",
              "      <td>2</td>\n",
              "      <td>Individual</td>\n",
              "      <td>1979</td>\n",
              "    </tr>\n",
              "    <tr>\n",
              "      <th>10</th>\n",
              "      <td>20</td>\n",
              "      <td>Individual</td>\n",
              "      <td>1983</td>\n",
              "    </tr>\n",
              "    <tr>\n",
              "      <th>11</th>\n",
              "      <td>34</td>\n",
              "      <td>Individual</td>\n",
              "      <td>1986</td>\n",
              "    </tr>\n",
              "    <tr>\n",
              "      <th>12</th>\n",
              "      <td>31</td>\n",
              "      <td>Individual</td>\n",
              "      <td>1982</td>\n",
              "    </tr>\n",
              "    <tr>\n",
              "      <th>13</th>\n",
              "      <td>2</td>\n",
              "      <td>Individual</td>\n",
              "      <td>1980</td>\n",
              "    </tr>\n",
              "    <tr>\n",
              "      <th>14</th>\n",
              "      <td>24</td>\n",
              "      <td>Individual</td>\n",
              "      <td>1980</td>\n",
              "    </tr>\n",
              "    <tr>\n",
              "      <th>15</th>\n",
              "      <td>12</td>\n",
              "      <td>Individual</td>\n",
              "      <td>1980</td>\n",
              "    </tr>\n",
              "    <tr>\n",
              "      <th>16</th>\n",
              "      <td>22</td>\n",
              "      <td>Individual</td>\n",
              "      <td>1983</td>\n",
              "    </tr>\n",
              "    <tr>\n",
              "      <th>17</th>\n",
              "      <td>20</td>\n",
              "      <td>Individual</td>\n",
              "      <td>1982</td>\n",
              "    </tr>\n",
              "    <tr>\n",
              "      <th>18</th>\n",
              "      <td>41</td>\n",
              "      <td>Individual</td>\n",
              "      <td>1988</td>\n",
              "    </tr>\n",
              "    <tr>\n",
              "      <th>19</th>\n",
              "      <td>2</td>\n",
              "      <td>Individual</td>\n",
              "      <td>1986</td>\n",
              "    </tr>\n",
              "  </tbody>\n",
              "</table>\n",
              "</div>"
            ],
            "text/plain": [
              "    pieces pieces-binned  year\n",
              "0      471    Individual  1970\n",
              "1       12    Individual  1978\n",
              "2        4    Individual  1997\n",
              "3        2    Individual  1978\n",
              "4        2    Individual  1978\n",
              "5        2    Individual  1983\n",
              "6        2    Individual  1978\n",
              "7        2    Individual  1979\n",
              "8        2    Individual  1979\n",
              "9        2    Individual  1979\n",
              "10      20    Individual  1983\n",
              "11      34    Individual  1986\n",
              "12      31    Individual  1982\n",
              "13       2    Individual  1980\n",
              "14      24    Individual  1980\n",
              "15      12    Individual  1980\n",
              "16      22    Individual  1983\n",
              "17      20    Individual  1982\n",
              "18      41    Individual  1988\n",
              "19       2    Individual  1986"
            ]
          },
          "metadata": {
            "tags": []
          },
          "execution_count": 58
        }
      ]
    },
    {
      "cell_type": "code",
      "metadata": {
        "id": "Iw7cpowh9cUo",
        "colab_type": "code",
        "colab": {
          "base_uri": "https://localhost:8080/",
          "height": 254
        },
        "outputId": "bd07f506-0169-4071-b742-d8cf5d4d31ae"
      },
      "source": [
        "sets[\"pieces-binned\"].value_counts()"
      ],
      "execution_count": 59,
      "outputs": [
        {
          "output_type": "execute_result",
          "data": {
            "text/plain": [
              "Individual    10645\n",
              "Tiny            734\n",
              "Micro           166\n",
              "Mini             53\n",
              "Small            39\n",
              "Regular          15\n",
              "Medium            7\n",
              "X-Large           5\n",
              "Large             3\n",
              "OMG               2\n",
              "Awasome           2\n",
              "Super             2\n",
              "Name: pieces-binned, dtype: int64"
            ]
          },
          "metadata": {
            "tags": []
          },
          "execution_count": 59
        }
      ]
    },
    {
      "cell_type": "code",
      "metadata": {
        "id": "GA2JupOk9490",
        "colab_type": "code",
        "colab": {
          "base_uri": "https://localhost:8080/",
          "height": 422
        },
        "outputId": "345af331-6426-46f5-b6e4-b966cbeb0194"
      },
      "source": [
        "%matplotlib inline\n",
        "import matplotlib as plt\n",
        "from matplotlib import pyplot\n",
        "pyplot.figure(figsize=(18,6)) #define the figure size\n",
        "pyplot.bar(group_names, sets[\"pieces-binned\"].value_counts())\n",
        "\n",
        "# set x/y labels and plot title\n",
        "plt.pyplot.xlabel(\"kit size\")\n",
        "plt.pyplot.ylabel(\"pieces\")\n",
        "plt.pyplot.title(\"pieces bins\")"
      ],
      "execution_count": 67,
      "outputs": [
        {
          "output_type": "execute_result",
          "data": {
            "text/plain": [
              "Text(0.5, 1.0, 'pieces bins')"
            ]
          },
          "metadata": {
            "tags": []
          },
          "execution_count": 67
        },
        {
          "output_type": "display_data",
          "data": {
            "image/png": "[encoded data removed]",
            "text/plain": [
              "<Figure size 1296x432 with 1 Axes>"
            ]
          },
          "metadata": {
            "tags": [],
            "needs_background": "light"
          }
        }
      ]
    },
    {
      "cell_type": "markdown",
      "metadata": {
        "id": "HmQYH0n1tWKT",
        "colab_type": "text"
      },
      "source": [
        "![alt text](https://cdn.awsli.com.br/600x1000/91/91201/produto/23788982/5f3ce28e94.jpg)"
      ]
    },
    {
      "cell_type": "markdown",
      "metadata": {
        "id": "69ewH53KuNLT",
        "colab_type": "text"
      },
      "source": [
        "![alt text](https://cdn.awsli.com.br/600x1000/91/91201/produto/13744563/be979e1272.jpg)"
      ]
    },
    {
      "cell_type": "markdown",
      "metadata": {
        "id": "T8O8pfQvucha",
        "colab_type": "text"
      },
      "source": [
        "![alt text](https://cdn.awsli.com.br/800x800/91/91201/produto/15384314/864ff9a8c1.jpg)"
      ]
    },
    {
      "cell_type": "markdown",
      "metadata": {
        "id": "p4YmA25kuq8J",
        "colab_type": "text"
      },
      "source": [
        "![alt text](https://cdn.awsli.com.br/800x800/91/91201/produto/6174003/03be7d5f74.jpg)\n",
        "\n",
        "> Lego Technic 42043\n",
        "\n"
      ]
    }
  ]
}