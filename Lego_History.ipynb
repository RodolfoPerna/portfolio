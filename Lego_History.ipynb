{
  "nbformat": 4,
  "nbformat_minor": 0,
  "metadata": {
    "colab": {
      "name": "Lego_History.ipynb",
      "provenance": [],
      "collapsed_sections": [],
      "mount_file_id": "https://github.com/RodolfoPerna/portfolio/blob/master/Lego_History.ipynb",
      "authorship_tag": "ABX9TyMSI6yc9HVi/QzVdAKkGknA",
      "include_colab_link": true
    },
    "kernelspec": {
      "name": "python3",
      "display_name": "Python 3"
    }
  },
  "cells": [
    {
      "cell_type": "markdown",
      "metadata": {
        "id": "view-in-github",
        "colab_type": "text"
      },
      "source": [
        "<a href=\"https://colab.research.google.com/github/RodolfoPerna/portfolio/blob/master/Lego_History.ipynb\" target=\"_parent\"><img src=\"https://colab.research.google.com/assets/colab-badge.svg\" alt=\"Open In Colab\"/></a>"
      ]
    },
    {
      "cell_type": "markdown",
      "metadata": {
        "id": "jRQfrmsT2Yu_",
        "colab_type": "text"
      },
      "source": [
        "**LOAD DATA**"
      ]
    },
    {
      "cell_type": "code",
      "metadata": {
        "id": "NkgGWjGkDoEk",
        "colab_type": "code",
        "colab": {
          "resources": {
            "http://localhost:8080/nbextensions/google.colab/files.js": {
              "data": "Ly8gQ29weXJpZ2h0IDIwMTcgR29vZ2xlIExMQwovLwovLyBMaWNlbnNlZCB1bmRlciB0aGUgQXBhY2hlIExpY2Vuc2UsIFZlcnNpb24gMi4wICh0aGUgIkxpY2Vuc2UiKTsKLy8geW91IG1heSBub3QgdXNlIHRoaXMgZmlsZSBleGNlcHQgaW4gY29tcGxpYW5jZSB3aXRoIHRoZSBMaWNlbnNlLgovLyBZb3UgbWF5IG9idGFpbiBhIGNvcHkgb2YgdGhlIExpY2Vuc2UgYXQKLy8KLy8gICAgICBodHRwOi8vd3d3LmFwYWNoZS5vcmcvbGljZW5zZXMvTElDRU5TRS0yLjAKLy8KLy8gVW5sZXNzIHJlcXVpcmVkIGJ5IGFwcGxpY2FibGUgbGF3IG9yIGFncmVlZCB0byBpbiB3cml0aW5nLCBzb2Z0d2FyZQovLyBkaXN0cmlidXRlZCB1bmRlciB0aGUgTGljZW5zZSBpcyBkaXN0cmlidXRlZCBvbiBhbiAiQVMgSVMiIEJBU0lTLAovLyBXSVRIT1VUIFdBUlJBTlRJRVMgT1IgQ09ORElUSU9OUyBPRiBBTlkgS0lORCwgZWl0aGVyIGV4cHJlc3Mgb3IgaW1wbGllZC4KLy8gU2VlIHRoZSBMaWNlbnNlIGZvciB0aGUgc3BlY2lmaWMgbGFuZ3VhZ2UgZ292ZXJuaW5nIHBlcm1pc3Npb25zIGFuZAovLyBsaW1pdGF0aW9ucyB1bmRlciB0aGUgTGljZW5zZS4KCi8qKgogKiBAZmlsZW92ZXJ2aWV3IEhlbHBlcnMgZm9yIGdvb2dsZS5jb2xhYiBQeXRob24gbW9kdWxlLgogKi8KKGZ1bmN0aW9uKHNjb3BlKSB7CmZ1bmN0aW9uIHNwYW4odGV4dCwgc3R5bGVBdHRyaWJ1dGVzID0ge30pIHsKICBjb25zdCBlbGVtZW50ID0gZG9jdW1lbnQuY3JlYXRlRWxlbWVudCgnc3BhbicpOwogIGVsZW1lbnQudGV4dENvbnRlbnQgPSB0ZXh0OwogIGZvciAoY29uc3Qga2V5IG9mIE9iamVjdC5rZXlzKHN0eWxlQXR0cmlidXRlcykpIHsKICAgIGVsZW1lbnQuc3R5bGVba2V5XSA9IHN0eWxlQXR0cmlidXRlc1trZXldOwogIH0KICByZXR1cm4gZWxlbWVudDsKfQoKLy8gTWF4IG51bWJlciBvZiBieXRlcyB3aGljaCB3aWxsIGJlIHVwbG9hZGVkIGF0IGEgdGltZS4KY29uc3QgTUFYX1BBWUxPQURfU0laRSA9IDEwMCAqIDEwMjQ7Ci8vIE1heCBhbW91bnQgb2YgdGltZSB0byBibG9jayB3YWl0aW5nIGZvciB0aGUgdXNlci4KY29uc3QgRklMRV9DSEFOR0VfVElNRU9VVF9NUyA9IDMwICogMTAwMDsKCmZ1bmN0aW9uIF91cGxvYWRGaWxlcyhpbnB1dElkLCBvdXRwdXRJZCkgewogIGNvbnN0IHN0ZXBzID0gdXBsb2FkRmlsZXNTdGVwKGlucHV0SWQsIG91dHB1dElkKTsKICBjb25zdCBvdXRwdXRFbGVtZW50ID0gZG9jdW1lbnQuZ2V0RWxlbWVudEJ5SWQob3V0cHV0SWQpOwogIC8vIENhY2hlIHN0ZXBzIG9uIHRoZSBvdXRwdXRFbGVtZW50IHRvIG1ha2UgaXQgYXZhaWxhYmxlIGZvciB0aGUgbmV4dCBjYWxsCiAgLy8gdG8gdXBsb2FkRmlsZXNDb250aW51ZSBmcm9tIFB5dGhvbi4KICBvdXRwdXRFbGVtZW50LnN0ZXBzID0gc3RlcHM7CgogIHJldHVybiBfdXBsb2FkRmlsZXNDb250aW51ZShvdXRwdXRJZCk7Cn0KCi8vIFRoaXMgaXMgcm91Z2hseSBhbiBhc3luYyBnZW5lcmF0b3IgKG5vdCBzdXBwb3J0ZWQgaW4gdGhlIGJyb3dzZXIgeWV0KSwKLy8gd2hlcmUgdGhlcmUgYXJlIG11bHRpcGxlIGFzeW5jaHJvbm91cyBzdGVwcyBhbmQgdGhlIFB5dGhvbiBzaWRlIGlzIGdvaW5nCi8vIHRvIHBvbGwgZm9yIGNvbXBsZXRpb24gb2YgZWFjaCBzdGVwLgovLyBUaGlzIHVzZXMgYSBQcm9taXNlIHRvIGJsb2NrIHRoZSBweXRob24gc2lkZSBvbiBjb21wbGV0aW9uIG9mIGVhY2ggc3RlcCwKLy8gdGhlbiBwYXNzZXMgdGhlIHJlc3VsdCBvZiB0aGUgcHJldmlvdXMgc3RlcCBhcyB0aGUgaW5wdXQgdG8gdGhlIG5leHQgc3RlcC4KZnVuY3Rpb24gX3VwbG9hZEZpbGVzQ29udGludWUob3V0cHV0SWQpIHsKICBjb25zdCBvdXRwdXRFbGVtZW50ID0gZG9jdW1lbnQuZ2V0RWxlbWVudEJ5SWQob3V0cHV0SWQpOwogIGNvbnN0IHN0ZXBzID0gb3V0cHV0RWxlbWVudC5zdGVwczsKCiAgY29uc3QgbmV4dCA9IHN0ZXBzLm5leHQob3V0cHV0RWxlbWVudC5sYXN0UHJvbWlzZVZhbHVlKTsKICByZXR1cm4gUHJvbWlzZS5yZXNvbHZlKG5leHQudmFsdWUucHJvbWlzZSkudGhlbigodmFsdWUpID0+IHsKICAgIC8vIENhY2hlIHRoZSBsYXN0IHByb21pc2UgdmFsdWUgdG8gbWFrZSBpdCBhdmFpbGFibGUgdG8gdGhlIG5leHQKICAgIC8vIHN0ZXAgb2YgdGhlIGdlbmVyYXRvci4KICAgIG91dHB1dEVsZW1lbnQubGFzdFByb21pc2VWYWx1ZSA9IHZhbHVlOwogICAgcmV0dXJuIG5leHQudmFsdWUucmVzcG9uc2U7CiAgfSk7Cn0KCi8qKgogKiBHZW5lcmF0b3IgZnVuY3Rpb24gd2hpY2ggaXMgY2FsbGVkIGJldHdlZW4gZWFjaCBhc3luYyBzdGVwIG9mIHRoZSB1cGxvYWQKICogcHJvY2Vzcy4KICogQHBhcmFtIHtzdHJpbmd9IGlucHV0SWQgRWxlbWVudCBJRCBvZiB0aGUgaW5wdXQgZmlsZSBwaWNrZXIgZWxlbWVudC4KICogQHBhcmFtIHtzdHJpbmd9IG91dHB1dElkIEVsZW1lbnQgSUQgb2YgdGhlIG91dHB1dCBkaXNwbGF5LgogKiBAcmV0dXJuIHshSXRlcmFibGU8IU9iamVjdD59IEl0ZXJhYmxlIG9mIG5leHQgc3RlcHMuCiAqLwpmdW5jdGlvbiogdXBsb2FkRmlsZXNTdGVwKGlucHV0SWQsIG91dHB1dElkKSB7CiAgY29uc3QgaW5wdXRFbGVtZW50ID0gZG9jdW1lbnQuZ2V0RWxlbWVudEJ5SWQoaW5wdXRJZCk7CiAgaW5wdXRFbGVtZW50LmRpc2FibGVkID0gZmFsc2U7CgogIGNvbnN0IG91dHB1dEVsZW1lbnQgPSBkb2N1bWVudC5nZXRFbGVtZW50QnlJZChvdXRwdXRJZCk7CiAgb3V0cHV0RWxlbWVudC5pbm5lckhUTUwgPSAnJzsKCiAgY29uc3QgcGlja2VkUHJvbWlzZSA9IG5ldyBQcm9taXNlKChyZXNvbHZlKSA9PiB7CiAgICBpbnB1dEVsZW1lbnQuYWRkRXZlbnRMaXN0ZW5lcignY2hhbmdlJywgKGUpID0+IHsKICAgICAgcmVzb2x2ZShlLnRhcmdldC5maWxlcyk7CiAgICB9KTsKICB9KTsKCiAgY29uc3QgY2FuY2VsID0gZG9jdW1lbnQuY3JlYXRlRWxlbWVudCgnYnV0dG9uJyk7CiAgaW5wdXRFbGVtZW50LnBhcmVudEVsZW1lbnQuYXBwZW5kQ2hpbGQoY2FuY2VsKTsKICBjYW5jZWwudGV4dENvbnRlbnQgPSAnQ2FuY2VsIHVwbG9hZCc7CiAgY29uc3QgY2FuY2VsUHJvbWlzZSA9IG5ldyBQcm9taXNlKChyZXNvbHZlKSA9PiB7CiAgICBjYW5jZWwub25jbGljayA9ICgpID0+IHsKICAgICAgcmVzb2x2ZShudWxsKTsKICAgIH07CiAgfSk7CgogIC8vIENhbmNlbCB1cGxvYWQgaWYgdXNlciBoYXNuJ3QgcGlja2VkIGFueXRoaW5nIGluIHRpbWVvdXQuCiAgY29uc3QgdGltZW91dFByb21pc2UgPSBuZXcgUHJvbWlzZSgocmVzb2x2ZSkgPT4gewogICAgc2V0VGltZW91dCgoKSA9PiB7CiAgICAgIHJlc29sdmUobnVsbCk7CiAgICB9LCBGSUxFX0NIQU5HRV9USU1FT1VUX01TKTsKICB9KTsKCiAgLy8gV2FpdCBmb3IgdGhlIHVzZXIgdG8gcGljayB0aGUgZmlsZXMuCiAgY29uc3QgZmlsZXMgPSB5aWVsZCB7CiAgICBwcm9taXNlOiBQcm9taXNlLnJhY2UoW3BpY2tlZFByb21pc2UsIHRpbWVvdXRQcm9taXNlLCBjYW5jZWxQcm9taXNlXSksCiAgICByZXNwb25zZTogewogICAgICBhY3Rpb246ICdzdGFydGluZycsCiAgICB9CiAgfTsKCiAgaWYgKCFmaWxlcykgewogICAgcmV0dXJuIHsKICAgICAgcmVzcG9uc2U6IHsKICAgICAgICBhY3Rpb246ICdjb21wbGV0ZScsCiAgICAgIH0KICAgIH07CiAgfQoKICBjYW5jZWwucmVtb3ZlKCk7CgogIC8vIERpc2FibGUgdGhlIGlucHV0IGVsZW1lbnQgc2luY2UgZnVydGhlciBwaWNrcyBhcmUgbm90IGFsbG93ZWQuCiAgaW5wdXRFbGVtZW50LmRpc2FibGVkID0gdHJ1ZTsKCiAgZm9yIChjb25zdCBmaWxlIG9mIGZpbGVzKSB7CiAgICBjb25zdCBsaSA9IGRvY3VtZW50LmNyZWF0ZUVsZW1lbnQoJ2xpJyk7CiAgICBsaS5hcHBlbmQoc3BhbihmaWxlLm5hbWUsIHtmb250V2VpZ2h0OiAnYm9sZCd9KSk7CiAgICBsaS5hcHBlbmQoc3BhbigKICAgICAgICBgKCR7ZmlsZS50eXBlIHx8ICduL2EnfSkgLSAke2ZpbGUuc2l6ZX0gYnl0ZXMsIGAgKwogICAgICAgIGBsYXN0IG1vZGlmaWVkOiAkewogICAgICAgICAgICBmaWxlLmxhc3RNb2RpZmllZERhdGUgPyBmaWxlLmxhc3RNb2RpZmllZERhdGUudG9Mb2NhbGVEYXRlU3RyaW5nKCkgOgogICAgICAgICAgICAgICAgICAgICAgICAgICAgICAgICAgICAnbi9hJ30gLSBgKSk7CiAgICBjb25zdCBwZXJjZW50ID0gc3BhbignMCUgZG9uZScpOwogICAgbGkuYXBwZW5kQ2hpbGQocGVyY2VudCk7CgogICAgb3V0cHV0RWxlbWVudC5hcHBlbmRDaGlsZChsaSk7CgogICAgY29uc3QgZmlsZURhdGFQcm9taXNlID0gbmV3IFByb21pc2UoKHJlc29sdmUpID0+IHsKICAgICAgY29uc3QgcmVhZGVyID0gbmV3IEZpbGVSZWFkZXIoKTsKICAgICAgcmVhZGVyLm9ubG9hZCA9IChlKSA9PiB7CiAgICAgICAgcmVzb2x2ZShlLnRhcmdldC5yZXN1bHQpOwogICAgICB9OwogICAgICByZWFkZXIucmVhZEFzQXJyYXlCdWZmZXIoZmlsZSk7CiAgICB9KTsKICAgIC8vIFdhaXQgZm9yIHRoZSBkYXRhIHRvIGJlIHJlYWR5LgogICAgbGV0IGZpbGVEYXRhID0geWllbGQgewogICAgICBwcm9taXNlOiBmaWxlRGF0YVByb21pc2UsCiAgICAgIHJlc3BvbnNlOiB7CiAgICAgICAgYWN0aW9uOiAnY29udGludWUnLAogICAgICB9CiAgICB9OwoKICAgIC8vIFVzZSBhIGNodW5rZWQgc2VuZGluZyB0byBhdm9pZCBtZXNzYWdlIHNpemUgbGltaXRzLiBTZWUgYi82MjExNTY2MC4KICAgIGxldCBwb3NpdGlvbiA9IDA7CiAgICB3aGlsZSAocG9zaXRpb24gPCBmaWxlRGF0YS5ieXRlTGVuZ3RoKSB7CiAgICAgIGNvbnN0IGxlbmd0aCA9IE1hdGgubWluKGZpbGVEYXRhLmJ5dGVMZW5ndGggLSBwb3NpdGlvbiwgTUFYX1BBWUxPQURfU0laRSk7CiAgICAgIGNvbnN0IGNodW5rID0gbmV3IFVpbnQ4QXJyYXkoZmlsZURhdGEsIHBvc2l0aW9uLCBsZW5ndGgpOwogICAgICBwb3NpdGlvbiArPSBsZW5ndGg7CgogICAgICBjb25zdCBiYXNlNjQgPSBidG9hKFN0cmluZy5mcm9tQ2hhckNvZGUuYXBwbHkobnVsbCwgY2h1bmspKTsKICAgICAgeWllbGQgewogICAgICAgIHJlc3BvbnNlOiB7CiAgICAgICAgICBhY3Rpb246ICdhcHBlbmQnLAogICAgICAgICAgZmlsZTogZmlsZS5uYW1lLAogICAgICAgICAgZGF0YTogYmFzZTY0LAogICAgICAgIH0sCiAgICAgIH07CiAgICAgIHBlcmNlbnQudGV4dENvbnRlbnQgPQogICAgICAgICAgYCR7TWF0aC5yb3VuZCgocG9zaXRpb24gLyBmaWxlRGF0YS5ieXRlTGVuZ3RoKSAqIDEwMCl9JSBkb25lYDsKICAgIH0KICB9CgogIC8vIEFsbCBkb25lLgogIHlpZWxkIHsKICAgIHJlc3BvbnNlOiB7CiAgICAgIGFjdGlvbjogJ2NvbXBsZXRlJywKICAgIH0KICB9Owp9CgpzY29wZS5nb29nbGUgPSBzY29wZS5nb29nbGUgfHwge307CnNjb3BlLmdvb2dsZS5jb2xhYiA9IHNjb3BlLmdvb2dsZS5jb2xhYiB8fCB7fTsKc2NvcGUuZ29vZ2xlLmNvbGFiLl9maWxlcyA9IHsKICBfdXBsb2FkRmlsZXMsCiAgX3VwbG9hZEZpbGVzQ29udGludWUsCn07Cn0pKHNlbGYpOwo=",
              "ok": true,
              "headers": [
                [
                  "content-type",
                  "application/javascript"
                ]
              ],
              "status": 200,
              "status_text": ""
            }
          },
          "base_uri": "https://localhost:8080/",
          "height": 40
        },
        "outputId": "b6a43f09-ceda-4f5e-b00a-1ce1c01c0bc6"
      },
      "source": [
        "from google.colab import files\n",
        "uploaded = files.upload()"
      ],
      "execution_count": 130,
      "outputs": [
        {
          "output_type": "display_data",
          "data": {
            "text/html": [
              "\n",
              "     <input type=\"file\" id=\"files-16980965-6eb0-46e8-9d9a-7e4c7c98c7c4\" name=\"files[]\" multiple disabled />\n",
              "     <output id=\"result-16980965-6eb0-46e8-9d9a-7e4c7c98c7c4\">\n",
              "      Upload widget is only available when the cell has been executed in the\n",
              "      current browser session. Please rerun this cell to enable.\n",
              "      </output>\n",
              "      <script src=\"/nbextensions/google.colab/files.js\"></script> "
            ],
            "text/plain": [
              "<IPython.core.display.HTML object>"
            ]
          },
          "metadata": {
            "tags": []
          }
        }
      ]
    },
    {
      "cell_type": "code",
      "metadata": {
        "id": "JgmrQrd5STIy",
        "colab_type": "code",
        "outputId": "c749c8f2-15a3-42c4-d36a-8c6b497b8bb4",
        "colab": {
          "base_uri": "https://localhost:8080/",
          "height": 34
        }
      },
      "source": [
        "# Import modules\n",
        "import pandas as pd\n",
        "import numpy as np\n",
        "import matplotlib.pyplot as plt\n",
        "import seaborn as sns\n",
        "print(\"Setup Complete\")"
      ],
      "execution_count": 131,
      "outputs": [
        {
          "output_type": "stream",
          "text": [
            "Setup Complete\n"
          ],
          "name": "stdout"
        }
      ]
    },
    {
      "cell_type": "markdown",
      "metadata": {
        "id": "BoIA_B8J2eJm",
        "colab_type": "text"
      },
      "source": [
        "**READ DATA**"
      ]
    },
    {
      "cell_type": "code",
      "metadata": {
        "id": "W7LrsHMn0bRQ",
        "colab_type": "code",
        "colab": {}
      },
      "source": [
        "# Read data\n",
        "themes = pd.read_csv('themes.csv')\n",
        "sets = pd.read_csv('sets.csv')"
      ],
      "execution_count": 0,
      "outputs": []
    },
    {
      "cell_type": "markdown",
      "metadata": {
        "id": "VqUEsoEp2n2G",
        "colab_type": "text"
      },
      "source": [
        "**Data exploration and relantionship**"
      ]
    },
    {
      "cell_type": "markdown",
      "metadata": {
        "id": "xZtkS-nEHOHf",
        "colab_type": "text"
      },
      "source": [
        "![alt text](https://drive.google.com/uc?id=1Ba-Cs7kJYxHxnZvJ72j6Vr9FXxbmbb_7)"
      ]
    },
    {
      "cell_type": "code",
      "metadata": {
        "id": "5Fvib_bRKYWg",
        "colab_type": "code",
        "colab": {}
      },
      "source": [
        "themes = themes.rename(columns={'id': 'theme_id'})"
      ],
      "execution_count": 0,
      "outputs": []
    },
    {
      "cell_type": "code",
      "metadata": {
        "id": "bDrhG4JjNnB9",
        "colab_type": "code",
        "colab": {
          "base_uri": "https://localhost:8080/",
          "height": 204
        },
        "outputId": "6699c822-4346-4447-ccbf-98b367c1b3fb"
      },
      "source": [
        "sets = sets.merge(themes, on='theme_id')\n",
        "sets.head()"
      ],
      "execution_count": 139,
      "outputs": [
        {
          "output_type": "execute_result",
          "data": {
            "text/html": [
              "<div>\n",
              "<style scoped>\n",
              "    .dataframe tbody tr th:only-of-type {\n",
              "        vertical-align: middle;\n",
              "    }\n",
              "\n",
              "    .dataframe tbody tr th {\n",
              "        vertical-align: top;\n",
              "    }\n",
              "\n",
              "    .dataframe thead th {\n",
              "        text-align: right;\n",
              "    }\n",
              "</style>\n",
              "<table border=\"1\" class=\"dataframe\">\n",
              "  <thead>\n",
              "    <tr style=\"text-align: right;\">\n",
              "      <th></th>\n",
              "      <th>set_num</th>\n",
              "      <th>name_x</th>\n",
              "      <th>year</th>\n",
              "      <th>theme_id</th>\n",
              "      <th>num_parts</th>\n",
              "      <th>name_y</th>\n",
              "      <th>parent_id_x</th>\n",
              "      <th>name</th>\n",
              "      <th>parent_id_y</th>\n",
              "    </tr>\n",
              "  </thead>\n",
              "  <tbody>\n",
              "    <tr>\n",
              "      <th>0</th>\n",
              "      <td>00-1</td>\n",
              "      <td>Weetabix Castle</td>\n",
              "      <td>1970</td>\n",
              "      <td>414</td>\n",
              "      <td>471</td>\n",
              "      <td>Castle</td>\n",
              "      <td>411.0</td>\n",
              "      <td>Castle</td>\n",
              "      <td>411.0</td>\n",
              "    </tr>\n",
              "    <tr>\n",
              "      <th>1</th>\n",
              "      <td>0011-2</td>\n",
              "      <td>Town Mini-Figures</td>\n",
              "      <td>1978</td>\n",
              "      <td>84</td>\n",
              "      <td>12</td>\n",
              "      <td>Supplemental</td>\n",
              "      <td>67.0</td>\n",
              "      <td>Supplemental</td>\n",
              "      <td>67.0</td>\n",
              "    </tr>\n",
              "    <tr>\n",
              "      <th>2</th>\n",
              "      <td>2181-1</td>\n",
              "      <td>Infomaniac</td>\n",
              "      <td>1997</td>\n",
              "      <td>84</td>\n",
              "      <td>4</td>\n",
              "      <td>Supplemental</td>\n",
              "      <td>67.0</td>\n",
              "      <td>Supplemental</td>\n",
              "      <td>67.0</td>\n",
              "    </tr>\n",
              "    <tr>\n",
              "      <th>3</th>\n",
              "      <td>300-1</td>\n",
              "      <td>T-Junction Road Plates</td>\n",
              "      <td>1978</td>\n",
              "      <td>84</td>\n",
              "      <td>2</td>\n",
              "      <td>Supplemental</td>\n",
              "      <td>67.0</td>\n",
              "      <td>Supplemental</td>\n",
              "      <td>67.0</td>\n",
              "    </tr>\n",
              "    <tr>\n",
              "      <th>4</th>\n",
              "      <td>301-1</td>\n",
              "      <td>Curved Road Plates</td>\n",
              "      <td>1978</td>\n",
              "      <td>84</td>\n",
              "      <td>2</td>\n",
              "      <td>Supplemental</td>\n",
              "      <td>67.0</td>\n",
              "      <td>Supplemental</td>\n",
              "      <td>67.0</td>\n",
              "    </tr>\n",
              "  </tbody>\n",
              "</table>\n",
              "</div>"
            ],
            "text/plain": [
              "  set_num                  name_x  year  ...  parent_id_x          name parent_id_y\n",
              "0    00-1         Weetabix Castle  1970  ...        411.0        Castle       411.0\n",
              "1  0011-2       Town Mini-Figures  1978  ...         67.0  Supplemental        67.0\n",
              "2  2181-1              Infomaniac  1997  ...         67.0  Supplemental        67.0\n",
              "3   300-1  T-Junction Road Plates  1978  ...         67.0  Supplemental        67.0\n",
              "4   301-1      Curved Road Plates  1978  ...         67.0  Supplemental        67.0\n",
              "\n",
              "[5 rows x 9 columns]"
            ]
          },
          "metadata": {
            "tags": []
          },
          "execution_count": 139
        }
      ]
    },
    {
      "cell_type": "code",
      "metadata": {
        "id": "JJOMS_IY4H_z",
        "colab_type": "code",
        "colab": {}
      },
      "source": [
        "parts_by_year = sets[['year','num_parts']].groupby('year', as_index = True).mean()"
      ],
      "execution_count": 0,
      "outputs": []
    },
    {
      "cell_type": "code",
      "metadata": {
        "id": "0EbrbHA7SyG_",
        "colab_type": "code",
        "outputId": "f8a248c3-ceb1-4bdf-d1b2-a8575a12bf50",
        "colab": {
          "base_uri": "https://localhost:8080/",
          "height": 407
        }
      },
      "source": [
        "plt.figure(figsize=(18,6)) #define the figure size\n",
        "plt.title(\"Parts by year [mean]\") #plot title\n",
        "sns.lineplot(data=parts_by_year['num_parts']) #create line plot"
      ],
      "execution_count": 135,
      "outputs": [
        {
          "output_type": "execute_result",
          "data": {
            "text/plain": [
              "<matplotlib.axes._subplots.AxesSubplot at 0x7f3b6f130a58>"
            ]
          },
          "metadata": {
            "tags": []
          },
          "execution_count": 135
        },
        {
          "output_type": "display_data",
          "data": {
            "image/png": "[encoded data removed]",
            "text/plain": [
              "<Figure size 1296x432 with 1 Axes>"
            ]
          },
          "metadata": {
            "tags": [],
            "needs_background": "light"
          }
        }
      ]
    },
    {
      "cell_type": "code",
      "metadata": {
        "id": "VUoT5udu02Jf",
        "colab_type": "code",
        "colab": {
          "base_uri": "https://localhost:8080/",
          "height": 170
        },
        "outputId": "792c1492-d95b-4c8d-876e-b7adf4a0df36"
      },
      "source": [
        "sets.num_parts.describe()"
      ],
      "execution_count": 156,
      "outputs": [
        {
          "output_type": "execute_result",
          "data": {
            "text/plain": [
              "count    11673.000000\n",
              "mean       162.262400\n",
              "std        330.192108\n",
              "min         -1.000000\n",
              "25%         10.000000\n",
              "50%         45.000000\n",
              "75%        172.000000\n",
              "max       5922.000000\n",
              "Name: num_parts, dtype: float64"
            ]
          },
          "metadata": {
            "tags": []
          },
          "execution_count": 156
        }
      ]
    },
    {
      "cell_type": "code",
      "metadata": {
        "id": "Feb7WYmXsxcG",
        "colab_type": "code",
        "colab": {
          "base_uri": "https://localhost:8080/",
          "height": 624
        },
        "outputId": "28f54778-5797-4777-870a-1a5f224702ce"
      },
      "source": [
        "x = sets.year\n",
        "y = sets.num_parts\n",
        "m, b = np. polyfit(x, y, 1)\n",
        "plt.figure(figsize=(18,10))\n",
        "plt.title(\"Parts by year\")\n",
        "plt. plot(x, y, 'yo') # create scatter plot.\n",
        "plt. plot(x, m*x + b) # add line of best fit."
      ],
      "execution_count": 160,
      "outputs": [
        {
          "output_type": "execute_result",
          "data": {
            "text/plain": [
              "[<matplotlib.lines.Line2D at 0x7f3b6aa65f28>]"
            ]
          },
          "metadata": {
            "tags": []
          },
          "execution_count": 160
        },
        {
          "output_type": "display_data",
          "data": {
            "image/png": "[encoded data removed]",
            "text/plain": [
              "<Figure size 1296x720 with 1 Axes>"
            ]
          },
          "metadata": {
            "tags": [],
            "needs_background": "light"
          }
        }
      ]
    },
    {
      "cell_type": "code",
      "metadata": {
        "id": "ejGc0uDCPLb3",
        "colab_type": "code",
        "colab": {
          "base_uri": "https://localhost:8080/",
          "height": 450
        },
        "outputId": "562d4d6b-0627-45b2-a473-98117ccee67d"
      },
      "source": [
        "parts_by_theme = sets[['name','num_parts']].groupby('name', as_index = True).mean()\n",
        "parts_by_theme.sort_values(by = 'num_parts', ascending = False)"
      ],
      "execution_count": 140,
      "outputs": [
        {
          "output_type": "execute_result",
          "data": {
            "text/html": [
              "<div>\n",
              "<style scoped>\n",
              "    .dataframe tbody tr th:only-of-type {\n",
              "        vertical-align: middle;\n",
              "    }\n",
              "\n",
              "    .dataframe tbody tr th {\n",
              "        vertical-align: top;\n",
              "    }\n",
              "\n",
              "    .dataframe thead th {\n",
              "        text-align: right;\n",
              "    }\n",
              "</style>\n",
              "<table border=\"1\" class=\"dataframe\">\n",
              "  <thead>\n",
              "    <tr style=\"text-align: right;\">\n",
              "      <th></th>\n",
              "      <th>num_parts</th>\n",
              "    </tr>\n",
              "    <tr>\n",
              "      <th>name</th>\n",
              "      <th></th>\n",
              "    </tr>\n",
              "  </thead>\n",
              "  <tbody>\n",
              "    <tr>\n",
              "      <th>Modular Buildings</th>\n",
              "      <td>2350.583333</td>\n",
              "    </tr>\n",
              "    <tr>\n",
              "      <th>Mosaic</th>\n",
              "      <td>1843.250000</td>\n",
              "    </tr>\n",
              "    <tr>\n",
              "      <th>Sculptures</th>\n",
              "      <td>1716.695652</td>\n",
              "    </tr>\n",
              "    <tr>\n",
              "      <th>Ultimate Collector Series</th>\n",
              "      <td>1680.333333</td>\n",
              "    </tr>\n",
              "    <tr>\n",
              "      <th>FIRST LEGO League</th>\n",
              "      <td>1387.000000</td>\n",
              "    </tr>\n",
              "    <tr>\n",
              "      <th>...</th>\n",
              "      <td>...</td>\n",
              "    </tr>\n",
              "    <tr>\n",
              "      <th>Power Functions</th>\n",
              "      <td>1.882353</td>\n",
              "    </tr>\n",
              "    <tr>\n",
              "      <th>Imperial Guards</th>\n",
              "      <td>1.000000</td>\n",
              "    </tr>\n",
              "    <tr>\n",
              "      <th>Key Chain</th>\n",
              "      <td>0.181818</td>\n",
              "    </tr>\n",
              "    <tr>\n",
              "      <th>Samsonite</th>\n",
              "      <td>0.000000</td>\n",
              "    </tr>\n",
              "    <tr>\n",
              "      <th>Wooden Box Set</th>\n",
              "      <td>-1.000000</td>\n",
              "    </tr>\n",
              "  </tbody>\n",
              "</table>\n",
              "<p>386 rows × 1 columns</p>\n",
              "</div>"
            ],
            "text/plain": [
              "                             num_parts\n",
              "name                                  \n",
              "Modular Buildings          2350.583333\n",
              "Mosaic                     1843.250000\n",
              "Sculptures                 1716.695652\n",
              "Ultimate Collector Series  1680.333333\n",
              "FIRST LEGO League          1387.000000\n",
              "...                                ...\n",
              "Power Functions               1.882353\n",
              "Imperial Guards               1.000000\n",
              "Key Chain                     0.181818\n",
              "Samsonite                     0.000000\n",
              "Wooden Box Set               -1.000000\n",
              "\n",
              "[386 rows x 1 columns]"
            ]
          },
          "metadata": {
            "tags": []
          },
          "execution_count": 140
        }
      ]
    },
    {
      "cell_type": "code",
      "metadata": {
        "id": "REeb3g1gQnqP",
        "colab_type": "code",
        "colab": {
          "base_uri": "https://localhost:8080/",
          "height": 421
        },
        "outputId": "076a7245-464b-4ba6-d7f0-afa54328cd48"
      },
      "source": [
        "modular_buildings = sets.loc[sets.name == 'Modular Buildings']\n",
        "modular_buildings.sort_values(by = 'year', ascending = False)"
      ],
      "execution_count": 141,
      "outputs": [
        {
          "output_type": "execute_result",
          "data": {
            "text/html": [
              "<div>\n",
              "<style scoped>\n",
              "    .dataframe tbody tr th:only-of-type {\n",
              "        vertical-align: middle;\n",
              "    }\n",
              "\n",
              "    .dataframe tbody tr th {\n",
              "        vertical-align: top;\n",
              "    }\n",
              "\n",
              "    .dataframe thead th {\n",
              "        text-align: right;\n",
              "    }\n",
              "</style>\n",
              "<table border=\"1\" class=\"dataframe\">\n",
              "  <thead>\n",
              "    <tr style=\"text-align: right;\">\n",
              "      <th></th>\n",
              "      <th>set_num</th>\n",
              "      <th>name_x</th>\n",
              "      <th>year</th>\n",
              "      <th>theme_id</th>\n",
              "      <th>num_parts</th>\n",
              "      <th>name_y</th>\n",
              "      <th>parent_id_x</th>\n",
              "      <th>name</th>\n",
              "      <th>parent_id_y</th>\n",
              "    </tr>\n",
              "  </thead>\n",
              "  <tbody>\n",
              "    <tr>\n",
              "      <th>1479</th>\n",
              "      <td>10255-1</td>\n",
              "      <td>Assembly Square</td>\n",
              "      <td>2017</td>\n",
              "      <td>155</td>\n",
              "      <td>4009</td>\n",
              "      <td>Modular Buildings</td>\n",
              "      <td>NaN</td>\n",
              "      <td>Modular Buildings</td>\n",
              "      <td>NaN</td>\n",
              "    </tr>\n",
              "    <tr>\n",
              "      <th>1478</th>\n",
              "      <td>10251-1</td>\n",
              "      <td>Brick Bank</td>\n",
              "      <td>2016</td>\n",
              "      <td>155</td>\n",
              "      <td>2383</td>\n",
              "      <td>Modular Buildings</td>\n",
              "      <td>NaN</td>\n",
              "      <td>Modular Buildings</td>\n",
              "      <td>NaN</td>\n",
              "    </tr>\n",
              "    <tr>\n",
              "      <th>1477</th>\n",
              "      <td>10246-1</td>\n",
              "      <td>Detective’s Office</td>\n",
              "      <td>2015</td>\n",
              "      <td>155</td>\n",
              "      <td>2261</td>\n",
              "      <td>Modular Buildings</td>\n",
              "      <td>NaN</td>\n",
              "      <td>Modular Buildings</td>\n",
              "      <td>NaN</td>\n",
              "    </tr>\n",
              "    <tr>\n",
              "      <th>1476</th>\n",
              "      <td>10243-1</td>\n",
              "      <td>Parisian Restaurant</td>\n",
              "      <td>2014</td>\n",
              "      <td>155</td>\n",
              "      <td>2469</td>\n",
              "      <td>Modular Buildings</td>\n",
              "      <td>NaN</td>\n",
              "      <td>Modular Buildings</td>\n",
              "      <td>NaN</td>\n",
              "    </tr>\n",
              "    <tr>\n",
              "      <th>1475</th>\n",
              "      <td>10232-1</td>\n",
              "      <td>Palace Cinema</td>\n",
              "      <td>2013</td>\n",
              "      <td>155</td>\n",
              "      <td>2192</td>\n",
              "      <td>Modular Buildings</td>\n",
              "      <td>NaN</td>\n",
              "      <td>Modular Buildings</td>\n",
              "      <td>NaN</td>\n",
              "    </tr>\n",
              "    <tr>\n",
              "      <th>1474</th>\n",
              "      <td>10224-1</td>\n",
              "      <td>Town Hall</td>\n",
              "      <td>2012</td>\n",
              "      <td>155</td>\n",
              "      <td>2771</td>\n",
              "      <td>Modular Buildings</td>\n",
              "      <td>NaN</td>\n",
              "      <td>Modular Buildings</td>\n",
              "      <td>NaN</td>\n",
              "    </tr>\n",
              "    <tr>\n",
              "      <th>1473</th>\n",
              "      <td>10218-1</td>\n",
              "      <td>Pet Shop</td>\n",
              "      <td>2011</td>\n",
              "      <td>155</td>\n",
              "      <td>2034</td>\n",
              "      <td>Modular Buildings</td>\n",
              "      <td>NaN</td>\n",
              "      <td>Modular Buildings</td>\n",
              "      <td>NaN</td>\n",
              "    </tr>\n",
              "    <tr>\n",
              "      <th>1472</th>\n",
              "      <td>10211-1</td>\n",
              "      <td>Grand Emporium</td>\n",
              "      <td>2010</td>\n",
              "      <td>155</td>\n",
              "      <td>2186</td>\n",
              "      <td>Modular Buildings</td>\n",
              "      <td>NaN</td>\n",
              "      <td>Modular Buildings</td>\n",
              "      <td>NaN</td>\n",
              "    </tr>\n",
              "    <tr>\n",
              "      <th>1471</th>\n",
              "      <td>10197-1</td>\n",
              "      <td>Fire Brigade</td>\n",
              "      <td>2009</td>\n",
              "      <td>155</td>\n",
              "      <td>2236</td>\n",
              "      <td>Modular Buildings</td>\n",
              "      <td>NaN</td>\n",
              "      <td>Modular Buildings</td>\n",
              "      <td>NaN</td>\n",
              "    </tr>\n",
              "    <tr>\n",
              "      <th>1469</th>\n",
              "      <td>10185-1</td>\n",
              "      <td>Green Grocer</td>\n",
              "      <td>2008</td>\n",
              "      <td>155</td>\n",
              "      <td>2358</td>\n",
              "      <td>Modular Buildings</td>\n",
              "      <td>NaN</td>\n",
              "      <td>Modular Buildings</td>\n",
              "      <td>NaN</td>\n",
              "    </tr>\n",
              "    <tr>\n",
              "      <th>1468</th>\n",
              "      <td>10182-1</td>\n",
              "      <td>Cafe Corner</td>\n",
              "      <td>2007</td>\n",
              "      <td>155</td>\n",
              "      <td>2058</td>\n",
              "      <td>Modular Buildings</td>\n",
              "      <td>NaN</td>\n",
              "      <td>Modular Buildings</td>\n",
              "      <td>NaN</td>\n",
              "    </tr>\n",
              "    <tr>\n",
              "      <th>1470</th>\n",
              "      <td>10190-1</td>\n",
              "      <td>Market Street</td>\n",
              "      <td>2007</td>\n",
              "      <td>155</td>\n",
              "      <td>1250</td>\n",
              "      <td>Modular Buildings</td>\n",
              "      <td>NaN</td>\n",
              "      <td>Modular Buildings</td>\n",
              "      <td>NaN</td>\n",
              "    </tr>\n",
              "  </tbody>\n",
              "</table>\n",
              "</div>"
            ],
            "text/plain": [
              "      set_num               name_x  ...               name  parent_id_y\n",
              "1479  10255-1      Assembly Square  ...  Modular Buildings          NaN\n",
              "1478  10251-1           Brick Bank  ...  Modular Buildings          NaN\n",
              "1477  10246-1   Detective’s Office  ...  Modular Buildings          NaN\n",
              "1476  10243-1  Parisian Restaurant  ...  Modular Buildings          NaN\n",
              "1475  10232-1        Palace Cinema  ...  Modular Buildings          NaN\n",
              "1474  10224-1            Town Hall  ...  Modular Buildings          NaN\n",
              "1473  10218-1             Pet Shop  ...  Modular Buildings          NaN\n",
              "1472  10211-1       Grand Emporium  ...  Modular Buildings          NaN\n",
              "1471  10197-1         Fire Brigade  ...  Modular Buildings          NaN\n",
              "1469  10185-1         Green Grocer  ...  Modular Buildings          NaN\n",
              "1468  10182-1          Cafe Corner  ...  Modular Buildings          NaN\n",
              "1470  10190-1        Market Street  ...  Modular Buildings          NaN\n",
              "\n",
              "[12 rows x 9 columns]"
            ]
          },
          "metadata": {
            "tags": []
          },
          "execution_count": 141
        }
      ]
    },
    {
      "cell_type": "code",
      "metadata": {
        "id": "yJmpdx6f4rWz",
        "colab_type": "code",
        "colab": {
          "base_uri": "https://localhost:8080/",
          "height": 313
        },
        "outputId": "9b1ccd21-a94b-4bde-977f-e317f4edd0c1"
      },
      "source": [
        "plt.figure(figsize=(50,12))\n",
        "plt.title(\"Modular Buildings Sets\")\n",
        "sns.barplot(x=modular_buildings['name_x'], y=modular_buildings['num_parts'])\n",
        "plt.ylabel(\"num_parts\")"
      ],
      "execution_count": 180,
      "outputs": [
        {
          "output_type": "execute_result",
          "data": {
            "text/plain": [
              "Text(0, 0.5, 'num_parts')"
            ]
          },
          "metadata": {
            "tags": []
          },
          "execution_count": 180
        },
        {
          "output_type": "display_data",
          "data": {
            "image/png": "[encoded data removed]",
            "text/plain": [
              "<Figure size 3600x864 with 1 Axes>"
            ]
          },
          "metadata": {
            "tags": [],
            "needs_background": "light"
          }
        }
      ]
    },
    {
      "cell_type": "code",
      "metadata": {
        "id": "GpxwWO5ppxyx",
        "colab_type": "code",
        "colab": {
          "base_uri": "https://localhost:8080/",
          "height": 297
        },
        "outputId": "8e8a7277-9b96-4c5c-bf06-d0cb6e9ed3bf"
      },
      "source": [
        "mosaic_buildings = sets.loc[sets.name == 'Mosaic']\n",
        "mosaic_buildings.sort_values(by = 'year', ascending = False)"
      ],
      "execution_count": 142,
      "outputs": [
        {
          "output_type": "execute_result",
          "data": {
            "text/html": [
              "<div>\n",
              "<style scoped>\n",
              "    .dataframe tbody tr th:only-of-type {\n",
              "        vertical-align: middle;\n",
              "    }\n",
              "\n",
              "    .dataframe tbody tr th {\n",
              "        vertical-align: top;\n",
              "    }\n",
              "\n",
              "    .dataframe thead th {\n",
              "        text-align: right;\n",
              "    }\n",
              "</style>\n",
              "<table border=\"1\" class=\"dataframe\">\n",
              "  <thead>\n",
              "    <tr style=\"text-align: right;\">\n",
              "      <th></th>\n",
              "      <th>set_num</th>\n",
              "      <th>name_x</th>\n",
              "      <th>year</th>\n",
              "      <th>theme_id</th>\n",
              "      <th>num_parts</th>\n",
              "      <th>name_y</th>\n",
              "      <th>parent_id_x</th>\n",
              "      <th>name</th>\n",
              "      <th>parent_id_y</th>\n",
              "    </tr>\n",
              "  </thead>\n",
              "  <tbody>\n",
              "    <tr>\n",
              "      <th>9026</th>\n",
              "      <td>40179-1</td>\n",
              "      <td>Personalised Mosaic Portrait</td>\n",
              "      <td>2016</td>\n",
              "      <td>277</td>\n",
              "      <td>4501</td>\n",
              "      <td>Mosaic</td>\n",
              "      <td>276.0</td>\n",
              "      <td>Mosaic</td>\n",
              "      <td>276.0</td>\n",
              "    </tr>\n",
              "    <tr>\n",
              "      <th>9027</th>\n",
              "      <td>6162-1</td>\n",
              "      <td>A World of LEGO Mosaic 4 in 1</td>\n",
              "      <td>2007</td>\n",
              "      <td>277</td>\n",
              "      <td>286</td>\n",
              "      <td>Mosaic</td>\n",
              "      <td>276.0</td>\n",
              "      <td>Mosaic</td>\n",
              "      <td>276.0</td>\n",
              "    </tr>\n",
              "    <tr>\n",
              "      <th>9028</th>\n",
              "      <td>6163-1</td>\n",
              "      <td>A World of LEGO Mosaic 9 in 1</td>\n",
              "      <td>2007</td>\n",
              "      <td>277</td>\n",
              "      <td>598</td>\n",
              "      <td>Mosaic</td>\n",
              "      <td>276.0</td>\n",
              "      <td>Mosaic</td>\n",
              "      <td>276.0</td>\n",
              "    </tr>\n",
              "    <tr>\n",
              "      <th>9029</th>\n",
              "      <td>k34431-1</td>\n",
              "      <td>Lego Mosaic Cat</td>\n",
              "      <td>2003</td>\n",
              "      <td>277</td>\n",
              "      <td>2126</td>\n",
              "      <td>Mosaic</td>\n",
              "      <td>276.0</td>\n",
              "      <td>Mosaic</td>\n",
              "      <td>276.0</td>\n",
              "    </tr>\n",
              "    <tr>\n",
              "      <th>9030</th>\n",
              "      <td>k34432-1</td>\n",
              "      <td>Lego Mosaic Dino</td>\n",
              "      <td>2003</td>\n",
              "      <td>277</td>\n",
              "      <td>2846</td>\n",
              "      <td>Mosaic</td>\n",
              "      <td>276.0</td>\n",
              "      <td>Mosaic</td>\n",
              "      <td>276.0</td>\n",
              "    </tr>\n",
              "    <tr>\n",
              "      <th>9031</th>\n",
              "      <td>k34433-1</td>\n",
              "      <td>Lego Mosaic Johnny Thunder</td>\n",
              "      <td>2003</td>\n",
              "      <td>277</td>\n",
              "      <td>2126</td>\n",
              "      <td>Mosaic</td>\n",
              "      <td>276.0</td>\n",
              "      <td>Mosaic</td>\n",
              "      <td>276.0</td>\n",
              "    </tr>\n",
              "    <tr>\n",
              "      <th>9032</th>\n",
              "      <td>k34434-1</td>\n",
              "      <td>Lego Mosaic Tiger</td>\n",
              "      <td>2003</td>\n",
              "      <td>277</td>\n",
              "      <td>2216</td>\n",
              "      <td>Mosaic</td>\n",
              "      <td>276.0</td>\n",
              "      <td>Mosaic</td>\n",
              "      <td>276.0</td>\n",
              "    </tr>\n",
              "    <tr>\n",
              "      <th>4983</th>\n",
              "      <td>1300-1</td>\n",
              "      <td>Lego Mosaik Set (Small)</td>\n",
              "      <td>1955</td>\n",
              "      <td>370</td>\n",
              "      <td>47</td>\n",
              "      <td>Mosaic</td>\n",
              "      <td>365.0</td>\n",
              "      <td>Mosaic</td>\n",
              "      <td>365.0</td>\n",
              "    </tr>\n",
              "  </tbody>\n",
              "</table>\n",
              "</div>"
            ],
            "text/plain": [
              "       set_num                         name_x  ...    name  parent_id_y\n",
              "9026   40179-1   Personalised Mosaic Portrait  ...  Mosaic        276.0\n",
              "9027    6162-1  A World of LEGO Mosaic 4 in 1  ...  Mosaic        276.0\n",
              "9028    6163-1  A World of LEGO Mosaic 9 in 1  ...  Mosaic        276.0\n",
              "9029  k34431-1                Lego Mosaic Cat  ...  Mosaic        276.0\n",
              "9030  k34432-1               Lego Mosaic Dino  ...  Mosaic        276.0\n",
              "9031  k34433-1     Lego Mosaic Johnny Thunder  ...  Mosaic        276.0\n",
              "9032  k34434-1              Lego Mosaic Tiger  ...  Mosaic        276.0\n",
              "4983    1300-1        Lego Mosaik Set (Small)  ...  Mosaic        365.0\n",
              "\n",
              "[8 rows x 9 columns]"
            ]
          },
          "metadata": {
            "tags": []
          },
          "execution_count": 142
        }
      ]
    },
    {
      "cell_type": "code",
      "metadata": {
        "id": "Pq0b0KSv7zI4",
        "colab_type": "code",
        "colab": {
          "base_uri": "https://localhost:8080/",
          "height": 313
        },
        "outputId": "925524f1-c4d7-4445-a752-7e360b452c5f"
      },
      "source": [
        "plt.figure(figsize=(50,12))\n",
        "plt.title(\"Mosaic Sets\")\n",
        "sns.barplot(x=mosaic_buildings['name_x'], y=mosaic_buildings['num_parts'])\n",
        "plt.ylabel(\"num_parts\")"
      ],
      "execution_count": 179,
      "outputs": [
        {
          "output_type": "execute_result",
          "data": {
            "text/plain": [
              "Text(0, 0.5, 'num_parts')"
            ]
          },
          "metadata": {
            "tags": []
          },
          "execution_count": 179
        },
        {
          "output_type": "display_data",
          "data": {
            "image/png": "[encoded data removed]",
            "text/plain": [
              "<Figure size 3600x864 with 1 Axes>"
            ]
          },
          "metadata": {
            "tags": [],
            "needs_background": "light"
          }
        }
      ]
    },
    {
      "cell_type": "code",
      "metadata": {
        "id": "kN4NH4T6qEm3",
        "colab_type": "code",
        "colab": {
          "base_uri": "https://localhost:8080/",
          "height": 762
        },
        "outputId": "02830a44-a717-4ee5-9b02-9666c35f92e5"
      },
      "source": [
        "sculpture_buildings = sets.loc[sets.name == 'Sculptures']\n",
        "sculpture_buildings.sort_values(by = 'num_parts', ascending = False)"
      ],
      "execution_count": 143,
      "outputs": [
        {
          "output_type": "execute_result",
          "data": {
            "text/html": [
              "<div>\n",
              "<style scoped>\n",
              "    .dataframe tbody tr th:only-of-type {\n",
              "        vertical-align: middle;\n",
              "    }\n",
              "\n",
              "    .dataframe tbody tr th {\n",
              "        vertical-align: top;\n",
              "    }\n",
              "\n",
              "    .dataframe thead th {\n",
              "        text-align: right;\n",
              "    }\n",
              "</style>\n",
              "<table border=\"1\" class=\"dataframe\">\n",
              "  <thead>\n",
              "    <tr style=\"text-align: right;\">\n",
              "      <th></th>\n",
              "      <th>set_num</th>\n",
              "      <th>name_x</th>\n",
              "      <th>year</th>\n",
              "      <th>theme_id</th>\n",
              "      <th>num_parts</th>\n",
              "      <th>name_y</th>\n",
              "      <th>parent_id_x</th>\n",
              "      <th>name</th>\n",
              "      <th>parent_id_y</th>\n",
              "    </tr>\n",
              "  </thead>\n",
              "  <tbody>\n",
              "    <tr>\n",
              "      <th>730</th>\n",
              "      <td>10189-1</td>\n",
              "      <td>Taj Mahal</td>\n",
              "      <td>2008</td>\n",
              "      <td>276</td>\n",
              "      <td>5922</td>\n",
              "      <td>Sculptures</td>\n",
              "      <td>NaN</td>\n",
              "      <td>Sculptures</td>\n",
              "      <td>NaN</td>\n",
              "    </tr>\n",
              "    <tr>\n",
              "      <th>733</th>\n",
              "      <td>10214-1</td>\n",
              "      <td>Tower Bridge</td>\n",
              "      <td>2010</td>\n",
              "      <td>276</td>\n",
              "      <td>4295</td>\n",
              "      <td>Sculptures</td>\n",
              "      <td>NaN</td>\n",
              "      <td>Sculptures</td>\n",
              "      <td>NaN</td>\n",
              "    </tr>\n",
              "    <tr>\n",
              "      <th>728</th>\n",
              "      <td>10181-1</td>\n",
              "      <td>Eiffel Tower 1:300 Scale</td>\n",
              "      <td>2007</td>\n",
              "      <td>276</td>\n",
              "      <td>3428</td>\n",
              "      <td>Sculptures</td>\n",
              "      <td>NaN</td>\n",
              "      <td>Sculptures</td>\n",
              "      <td>NaN</td>\n",
              "    </tr>\n",
              "    <tr>\n",
              "      <th>731</th>\n",
              "      <td>10196-1</td>\n",
              "      <td>Grand Carousel</td>\n",
              "      <td>2009</td>\n",
              "      <td>276</td>\n",
              "      <td>3260</td>\n",
              "      <td>Sculptures</td>\n",
              "      <td>NaN</td>\n",
              "      <td>Sculptures</td>\n",
              "      <td>NaN</td>\n",
              "    </tr>\n",
              "    <tr>\n",
              "      <th>737</th>\n",
              "      <td>10234-1</td>\n",
              "      <td>Sydney Opera House</td>\n",
              "      <td>2013</td>\n",
              "      <td>276</td>\n",
              "      <td>2988</td>\n",
              "      <td>Sculptures</td>\n",
              "      <td>NaN</td>\n",
              "      <td>Sculptures</td>\n",
              "      <td>NaN</td>\n",
              "    </tr>\n",
              "    <tr>\n",
              "      <th>738</th>\n",
              "      <td>3450-1</td>\n",
              "      <td>Statue of Liberty</td>\n",
              "      <td>2000</td>\n",
              "      <td>276</td>\n",
              "      <td>2899</td>\n",
              "      <td>Sculptures</td>\n",
              "      <td>NaN</td>\n",
              "      <td>Sculptures</td>\n",
              "      <td>NaN</td>\n",
              "    </tr>\n",
              "    <tr>\n",
              "      <th>740</th>\n",
              "      <td>3723-1</td>\n",
              "      <td>Lego Minifigure</td>\n",
              "      <td>2000</td>\n",
              "      <td>276</td>\n",
              "      <td>1849</td>\n",
              "      <td>Sculptures</td>\n",
              "      <td>NaN</td>\n",
              "      <td>Sculptures</td>\n",
              "      <td>NaN</td>\n",
              "    </tr>\n",
              "    <tr>\n",
              "      <th>729</th>\n",
              "      <td>10187-1</td>\n",
              "      <td>Volkswagen Beetle (VW Beetle)</td>\n",
              "      <td>2008</td>\n",
              "      <td>276</td>\n",
              "      <td>1625</td>\n",
              "      <td>Sculptures</td>\n",
              "      <td>NaN</td>\n",
              "      <td>Sculptures</td>\n",
              "      <td>NaN</td>\n",
              "    </tr>\n",
              "    <tr>\n",
              "      <th>741</th>\n",
              "      <td>3724-1</td>\n",
              "      <td>Lego Dragon</td>\n",
              "      <td>2001</td>\n",
              "      <td>276</td>\n",
              "      <td>1538</td>\n",
              "      <td>Sculptures</td>\n",
              "      <td>NaN</td>\n",
              "      <td>Sculptures</td>\n",
              "      <td>NaN</td>\n",
              "    </tr>\n",
              "    <tr>\n",
              "      <th>734</th>\n",
              "      <td>10220-1</td>\n",
              "      <td>Volkswagen T1 Camper Van</td>\n",
              "      <td>2011</td>\n",
              "      <td>276</td>\n",
              "      <td>1333</td>\n",
              "      <td>Sculptures</td>\n",
              "      <td>NaN</td>\n",
              "      <td>Sculptures</td>\n",
              "      <td>NaN</td>\n",
              "    </tr>\n",
              "    <tr>\n",
              "      <th>736</th>\n",
              "      <td>10231-1</td>\n",
              "      <td>Shuttle Expedition</td>\n",
              "      <td>2011</td>\n",
              "      <td>276</td>\n",
              "      <td>1229</td>\n",
              "      <td>Sculptures</td>\n",
              "      <td>NaN</td>\n",
              "      <td>Sculptures</td>\n",
              "      <td>NaN</td>\n",
              "    </tr>\n",
              "    <tr>\n",
              "      <th>732</th>\n",
              "      <td>10213-1</td>\n",
              "      <td>Shuttle Adventure</td>\n",
              "      <td>2010</td>\n",
              "      <td>276</td>\n",
              "      <td>1203</td>\n",
              "      <td>Sculptures</td>\n",
              "      <td>NaN</td>\n",
              "      <td>Sculptures</td>\n",
              "      <td>NaN</td>\n",
              "    </tr>\n",
              "    <tr>\n",
              "      <th>727</th>\n",
              "      <td>10177-1</td>\n",
              "      <td>Boeing 787 Dreamliner</td>\n",
              "      <td>2006</td>\n",
              "      <td>276</td>\n",
              "      <td>1196</td>\n",
              "      <td>Sculptures</td>\n",
              "      <td>NaN</td>\n",
              "      <td>Sculptures</td>\n",
              "      <td>NaN</td>\n",
              "    </tr>\n",
              "    <tr>\n",
              "      <th>726</th>\n",
              "      <td>10155-1</td>\n",
              "      <td>Maersk Line Container Ship 2010 Edition</td>\n",
              "      <td>2010</td>\n",
              "      <td>276</td>\n",
              "      <td>984</td>\n",
              "      <td>Sculptures</td>\n",
              "      <td>NaN</td>\n",
              "      <td>Sculptures</td>\n",
              "      <td>NaN</td>\n",
              "    </tr>\n",
              "    <tr>\n",
              "      <th>725</th>\n",
              "      <td>10152-3</td>\n",
              "      <td>Maersk Line Container Ship 2006 Edition</td>\n",
              "      <td>2006</td>\n",
              "      <td>276</td>\n",
              "      <td>982</td>\n",
              "      <td>Sculptures</td>\n",
              "      <td>NaN</td>\n",
              "      <td>Sculptures</td>\n",
              "      <td>NaN</td>\n",
              "    </tr>\n",
              "    <tr>\n",
              "      <th>724</th>\n",
              "      <td>10152-2</td>\n",
              "      <td>Maersk Sealand Container Ship 2005 Edition</td>\n",
              "      <td>2005</td>\n",
              "      <td>276</td>\n",
              "      <td>982</td>\n",
              "      <td>Sculptures</td>\n",
              "      <td>NaN</td>\n",
              "      <td>Sculptures</td>\n",
              "      <td>NaN</td>\n",
              "    </tr>\n",
              "    <tr>\n",
              "      <th>723</th>\n",
              "      <td>10152-1</td>\n",
              "      <td>Maersk Sealand Container Ship 2004 Edition</td>\n",
              "      <td>2004</td>\n",
              "      <td>276</td>\n",
              "      <td>982</td>\n",
              "      <td>Sculptures</td>\n",
              "      <td>NaN</td>\n",
              "      <td>Sculptures</td>\n",
              "      <td>NaN</td>\n",
              "    </tr>\n",
              "    <tr>\n",
              "      <th>735</th>\n",
              "      <td>10226-1</td>\n",
              "      <td>Sopwith Camel</td>\n",
              "      <td>2012</td>\n",
              "      <td>276</td>\n",
              "      <td>877</td>\n",
              "      <td>Sculptures</td>\n",
              "      <td>NaN</td>\n",
              "      <td>Sculptures</td>\n",
              "      <td>NaN</td>\n",
              "    </tr>\n",
              "    <tr>\n",
              "      <th>721</th>\n",
              "      <td>10024-1</td>\n",
              "      <td>Red Baron</td>\n",
              "      <td>2002</td>\n",
              "      <td>276</td>\n",
              "      <td>669</td>\n",
              "      <td>Sculptures</td>\n",
              "      <td>NaN</td>\n",
              "      <td>Sculptures</td>\n",
              "      <td>NaN</td>\n",
              "    </tr>\n",
              "    <tr>\n",
              "      <th>722</th>\n",
              "      <td>10124-1</td>\n",
              "      <td>Wright Flyer</td>\n",
              "      <td>2003</td>\n",
              "      <td>276</td>\n",
              "      <td>663</td>\n",
              "      <td>Sculptures</td>\n",
              "      <td>NaN</td>\n",
              "      <td>Sculptures</td>\n",
              "      <td>NaN</td>\n",
              "    </tr>\n",
              "    <tr>\n",
              "      <th>739</th>\n",
              "      <td>3451-1</td>\n",
              "      <td>Sopwith Camel</td>\n",
              "      <td>2001</td>\n",
              "      <td>276</td>\n",
              "      <td>575</td>\n",
              "      <td>Sculptures</td>\n",
              "      <td>NaN</td>\n",
              "      <td>Sculptures</td>\n",
              "      <td>NaN</td>\n",
              "    </tr>\n",
              "    <tr>\n",
              "      <th>742</th>\n",
              "      <td>K10124-1</td>\n",
              "      <td>Ultimate Plane Kit</td>\n",
              "      <td>2003</td>\n",
              "      <td>276</td>\n",
              "      <td>3</td>\n",
              "      <td>Sculptures</td>\n",
              "      <td>NaN</td>\n",
              "      <td>Sculptures</td>\n",
              "      <td>NaN</td>\n",
              "    </tr>\n",
              "    <tr>\n",
              "      <th>743</th>\n",
              "      <td>K3451-1</td>\n",
              "      <td>Famous Planes Kit</td>\n",
              "      <td>2002</td>\n",
              "      <td>276</td>\n",
              "      <td>2</td>\n",
              "      <td>Sculptures</td>\n",
              "      <td>NaN</td>\n",
              "      <td>Sculptures</td>\n",
              "      <td>NaN</td>\n",
              "    </tr>\n",
              "  </tbody>\n",
              "</table>\n",
              "</div>"
            ],
            "text/plain": [
              "      set_num  ... parent_id_y\n",
              "730   10189-1  ...         NaN\n",
              "733   10214-1  ...         NaN\n",
              "728   10181-1  ...         NaN\n",
              "731   10196-1  ...         NaN\n",
              "737   10234-1  ...         NaN\n",
              "738    3450-1  ...         NaN\n",
              "740    3723-1  ...         NaN\n",
              "729   10187-1  ...         NaN\n",
              "741    3724-1  ...         NaN\n",
              "734   10220-1  ...         NaN\n",
              "736   10231-1  ...         NaN\n",
              "732   10213-1  ...         NaN\n",
              "727   10177-1  ...         NaN\n",
              "726   10155-1  ...         NaN\n",
              "725   10152-3  ...         NaN\n",
              "724   10152-2  ...         NaN\n",
              "723   10152-1  ...         NaN\n",
              "735   10226-1  ...         NaN\n",
              "721   10024-1  ...         NaN\n",
              "722   10124-1  ...         NaN\n",
              "739    3451-1  ...         NaN\n",
              "742  K10124-1  ...         NaN\n",
              "743   K3451-1  ...         NaN\n",
              "\n",
              "[23 rows x 9 columns]"
            ]
          },
          "metadata": {
            "tags": []
          },
          "execution_count": 143
        }
      ]
    },
    {
      "cell_type": "code",
      "metadata": {
        "id": "1T6_ajoE79Sl",
        "colab_type": "code",
        "colab": {
          "base_uri": "https://localhost:8080/",
          "height": 313
        },
        "outputId": "779a19d4-2f78-464d-d89d-318d450d96f7"
      },
      "source": [
        "plt.figure(figsize=(50,12))\n",
        "plt.title(\"Sculptures Sets\")\n",
        "sns.barplot(x=sculpture_buildings['name_x'], y=sculpture_buildings['num_parts'])\n",
        "plt.ylabel(\"num_parts\")"
      ],
      "execution_count": 178,
      "outputs": [
        {
          "output_type": "execute_result",
          "data": {
            "text/plain": [
              "Text(0, 0.5, 'num_parts')"
            ]
          },
          "metadata": {
            "tags": []
          },
          "execution_count": 178
        },
        {
          "output_type": "display_data",
          "data": {
            "image/png": "[encoded data removed]",
            "text/plain": [
              "<Figure size 3600x864 with 1 Axes>"
            ]
          },
          "metadata": {
            "tags": [],
            "needs_background": "light"
          }
        }
      ]
    }
  ]
}